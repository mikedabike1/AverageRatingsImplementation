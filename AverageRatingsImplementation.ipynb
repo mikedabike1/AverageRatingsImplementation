{
 "cells": [
  {
   "cell_type": "code",
   "execution_count": 39,
   "metadata": {},
   "outputs": [],
   "source": [
    "import pandas as pd\n",
    "from scipy.sparse import csr_matrix, csc_matrix, coo_matrix\n",
    "import numpy as np"
   ]
  },
  {
   "cell_type": "markdown",
   "metadata": {},
   "source": [
    "<h1> Load Data </h1>"
   ]
  },
  {
   "cell_type": "code",
   "execution_count": 2,
   "metadata": {},
   "outputs": [],
   "source": [
    "movies_df = pd.read_csv('data/movies.csv')\n",
    "ratings_df = pd.read_csv('data/ratings.csv')"
   ]
  },
  {
   "cell_type": "code",
   "execution_count": 3,
   "metadata": {},
   "outputs": [
    {
     "data": {
      "text/html": [
       "<div>\n",
       "<style scoped>\n",
       "    .dataframe tbody tr th:only-of-type {\n",
       "        vertical-align: middle;\n",
       "    }\n",
       "\n",
       "    .dataframe tbody tr th {\n",
       "        vertical-align: top;\n",
       "    }\n",
       "\n",
       "    .dataframe thead th {\n",
       "        text-align: right;\n",
       "    }\n",
       "</style>\n",
       "<table border=\"1\" class=\"dataframe\">\n",
       "  <thead>\n",
       "    <tr style=\"text-align: right;\">\n",
       "      <th></th>\n",
       "      <th>movieId</th>\n",
       "      <th>title</th>\n",
       "      <th>genres</th>\n",
       "    </tr>\n",
       "  </thead>\n",
       "  <tbody>\n",
       "    <tr>\n",
       "      <th>0</th>\n",
       "      <td>1</td>\n",
       "      <td>Toy Story (1995)</td>\n",
       "      <td>Adventure|Animation|Children|Comedy|Fantasy</td>\n",
       "    </tr>\n",
       "    <tr>\n",
       "      <th>1</th>\n",
       "      <td>2</td>\n",
       "      <td>Jumanji (1995)</td>\n",
       "      <td>Adventure|Children|Fantasy</td>\n",
       "    </tr>\n",
       "    <tr>\n",
       "      <th>2</th>\n",
       "      <td>3</td>\n",
       "      <td>Grumpier Old Men (1995)</td>\n",
       "      <td>Comedy|Romance</td>\n",
       "    </tr>\n",
       "    <tr>\n",
       "      <th>3</th>\n",
       "      <td>4</td>\n",
       "      <td>Waiting to Exhale (1995)</td>\n",
       "      <td>Comedy|Drama|Romance</td>\n",
       "    </tr>\n",
       "    <tr>\n",
       "      <th>4</th>\n",
       "      <td>5</td>\n",
       "      <td>Father of the Bride Part II (1995)</td>\n",
       "      <td>Comedy</td>\n",
       "    </tr>\n",
       "  </tbody>\n",
       "</table>\n",
       "</div>"
      ],
      "text/plain": [
       "   movieId                               title  \\\n",
       "0        1                    Toy Story (1995)   \n",
       "1        2                      Jumanji (1995)   \n",
       "2        3             Grumpier Old Men (1995)   \n",
       "3        4            Waiting to Exhale (1995)   \n",
       "4        5  Father of the Bride Part II (1995)   \n",
       "\n",
       "                                        genres  \n",
       "0  Adventure|Animation|Children|Comedy|Fantasy  \n",
       "1                   Adventure|Children|Fantasy  \n",
       "2                               Comedy|Romance  \n",
       "3                         Comedy|Drama|Romance  \n",
       "4                                       Comedy  "
      ]
     },
     "execution_count": 3,
     "metadata": {},
     "output_type": "execute_result"
    }
   ],
   "source": [
    "original_movie_ids = set(movies_df[\"movieId\"])\n",
    "movie_id_map = {original : new for new, original in enumerate(original_movie_ids) }\n",
    "movies_df[\"movieId\"] = movies_df[\"movieId\"].map(movie_id_map)\n",
    "movies_df.head()"
   ]
  },
  {
   "cell_type": "code",
   "execution_count": 4,
   "metadata": {},
   "outputs": [
    {
     "data": {
      "text/html": [
       "<div>\n",
       "<style scoped>\n",
       "    .dataframe tbody tr th:only-of-type {\n",
       "        vertical-align: middle;\n",
       "    }\n",
       "\n",
       "    .dataframe tbody tr th {\n",
       "        vertical-align: top;\n",
       "    }\n",
       "\n",
       "    .dataframe thead th {\n",
       "        text-align: right;\n",
       "    }\n",
       "</style>\n",
       "<table border=\"1\" class=\"dataframe\">\n",
       "  <thead>\n",
       "    <tr style=\"text-align: right;\">\n",
       "      <th></th>\n",
       "      <th>userId</th>\n",
       "      <th>movieId</th>\n",
       "      <th>rating</th>\n",
       "      <th>timestamp</th>\n",
       "    </tr>\n",
       "  </thead>\n",
       "  <tbody>\n",
       "    <tr>\n",
       "      <th>0</th>\n",
       "      <td>1</td>\n",
       "      <td>296</td>\n",
       "      <td>5.0</td>\n",
       "      <td>1147880044</td>\n",
       "    </tr>\n",
       "    <tr>\n",
       "      <th>1</th>\n",
       "      <td>1</td>\n",
       "      <td>306</td>\n",
       "      <td>3.5</td>\n",
       "      <td>1147868817</td>\n",
       "    </tr>\n",
       "    <tr>\n",
       "      <th>2</th>\n",
       "      <td>1</td>\n",
       "      <td>307</td>\n",
       "      <td>5.0</td>\n",
       "      <td>1147868828</td>\n",
       "    </tr>\n",
       "    <tr>\n",
       "      <th>3</th>\n",
       "      <td>1</td>\n",
       "      <td>665</td>\n",
       "      <td>5.0</td>\n",
       "      <td>1147878820</td>\n",
       "    </tr>\n",
       "    <tr>\n",
       "      <th>4</th>\n",
       "      <td>1</td>\n",
       "      <td>899</td>\n",
       "      <td>3.5</td>\n",
       "      <td>1147868510</td>\n",
       "    </tr>\n",
       "  </tbody>\n",
       "</table>\n",
       "</div>"
      ],
      "text/plain": [
       "   userId  movieId  rating   timestamp\n",
       "0       1      296     5.0  1147880044\n",
       "1       1      306     3.5  1147868817\n",
       "2       1      307     5.0  1147868828\n",
       "3       1      665     5.0  1147878820\n",
       "4       1      899     3.5  1147868510"
      ]
     },
     "execution_count": 4,
     "metadata": {},
     "output_type": "execute_result"
    }
   ],
   "source": [
    "original_movie_ids = set(ratings_df[\"movieId\"])\n",
    "movie_id_map = {original : new for new, original in enumerate(original_movie_ids) }\n",
    "ratings_df[\"movieId\"] = ratings_df[\"movieId\"].map(movie_id_map)\n",
    "ratings_df.head()"
   ]
  },
  {
   "cell_type": "markdown",
   "metadata": {},
   "source": [
    "<h1> Build Raiding Matrix </h1>"
   ]
  },
  {
   "cell_type": "code",
   "execution_count": 5,
   "metadata": {},
   "outputs": [],
   "source": [
    "\n",
    "\n",
    "# Get the unique user IDs and movie IDs\n",
    "user_ids = ratings_df['userId'].unique()\n",
    "movie_ids = ratings_df['movieId'].unique()\n",
    "\n",
    "# Create a dictionary to map movie IDs to column indices\n",
    "movie_id_map = {movie_id: i for i, movie_id in enumerate(movie_ids)}\n",
    "\n",
    "\n",
    "\n"
   ]
  },
  {
   "cell_type": "code",
   "execution_count": 6,
   "metadata": {},
   "outputs": [
    {
     "data": {
      "text/plain": [
       "59047"
      ]
     },
     "execution_count": 6,
     "metadata": {},
     "output_type": "execute_result"
    }
   ],
   "source": [
    "len(movie_ids)"
   ]
  },
  {
   "cell_type": "code",
   "execution_count": 7,
   "metadata": {},
   "outputs": [],
   "source": [
    "\n",
    "# Initialize lists to store the row indices, column indices, and ratings\n",
    "row_indices = []\n",
    "col_indices = []\n",
    "ratings = []\n",
    "\n",
    "# Iterate over the ratings dataframe\n",
    "for _, row in ratings_df.iterrows():\n",
    "    row_indices.append(int(row['userId']))\n",
    "    col_indices.append(int(row['movieId']))\n",
    "    ratings.append(row['rating'])"
   ]
  },
  {
   "cell_type": "code",
   "execution_count": 37,
   "metadata": {},
   "outputs": [
    {
     "data": {
      "text/plain": [
       "(162542, 59047)"
      ]
     },
     "execution_count": 37,
     "metadata": {},
     "output_type": "execute_result"
    }
   ],
   "source": [
    "# Create the sparse spatial matrix\n",
    "sparse_matrix = csr_matrix((ratings, (row_indices, col_indices)))\n",
    "sparse_matrix.shape"
   ]
  },
  {
   "cell_type": "code",
   "execution_count": 40,
   "metadata": {},
   "outputs": [],
   "source": [
    "coo_matrix = coo_matrix((ratings, (row_indices, col_indices)))"
   ]
  },
  {
   "cell_type": "markdown",
   "metadata": {},
   "source": [
    "<h1> Define training function </h1>"
   ]
  },
  {
   "cell_type": "code",
   "execution_count": 10,
   "metadata": {},
   "outputs": [],
   "source": [
    "def Average(lst): \n",
    "    return sum(lst) / len(lst) "
   ]
  },
  {
   "cell_type": "code",
   "execution_count": 11,
   "metadata": {},
   "outputs": [],
   "source": [
    "def getColumnAverage(matrix, column_index):\n",
    "    col = matrix.getcol(column_index)\n",
    "    non_zero_column = col[col.nonzero()]\n",
    "    return Average(np.squeeze(np.asarray(non_zero_column)))"
   ]
  },
  {
   "cell_type": "code",
   "execution_count": 116,
   "metadata": {},
   "outputs": [
    {
     "data": {
      "text/plain": [
       "3.8925158193323153"
      ]
     },
     "execution_count": 116,
     "metadata": {},
     "output_type": "execute_result"
    }
   ],
   "source": [
    "avg_rat_model.avg_ratings_df.iloc[0,1]"
   ]
  },
  {
   "cell_type": "code",
   "execution_count": 126,
   "metadata": {},
   "outputs": [],
   "source": [
    "from sklearn.base import BaseEstimator\n",
    "\n",
    "class AverageRatingModel(BaseEstimator):\n",
    "    avg_ratings_df = None  \n",
    "        \n",
    "    def fit(self, training_ratings_matrix: csc_matrix):\n",
    "        # Calculate the column-wise average of the sparse matrix\n",
    "        averages = training_ratings_matrix.sum(0) / training_ratings_matrix.getnnz(0)\n",
    "        self.avg_ratings_df = pd.DataFrame(averages[0])\n",
    "        \n",
    "    def predict(self, user_ratings_matrix: lil_matrix):\n",
    "        \n",
    "        # Get the number of rows and columns in the user_ratings_matrix\n",
    "        num_rows, num_cols = user_ratings_matrix.shape\n",
    "        \n",
    "        # Iterate over each row (user) and column (movie)\n",
    "        for i in range(num_rows):\n",
    "            for j in range(num_cols):\n",
    "                # Check if the value is null\n",
    "                if user_ratings_matrix[i, j] == 0:\n",
    "                    # Replace the null value with a value from avg_ratings_df\n",
    "                    user_ratings_matrix[i, j] = self.avg_ratings_df.iloc[0,j]\n",
    "        \n",
    "        # Return the modified user_ratings_matrix\n",
    "        return user_ratings_matrix\n"
   ]
  },
  {
   "cell_type": "markdown",
   "metadata": {},
   "source": [
    "<h1> Run Training </h1>"
   ]
  },
  {
   "cell_type": "code",
   "execution_count": 127,
   "metadata": {},
   "outputs": [],
   "source": [
    "from sklearn.model_selection import train_test_split\n",
    "\n",
    "train_dataset, test_dataset = train_test_split(sparse_matrix, test_size=0.2, train_size=0.8)\n"
   ]
  },
  {
   "cell_type": "code",
   "execution_count": 128,
   "metadata": {},
   "outputs": [
    {
     "name": "stderr",
     "output_type": "stream",
     "text": [
      "C:\\Users\\miked\\AppData\\Local\\Temp\\ipykernel_29556\\3800083421.py:8: RuntimeWarning: invalid value encountered in divide\n",
      "  averages = training_ratings_matrix.sum(0) / training_ratings_matrix.getnnz(0)\n"
     ]
    }
   ],
   "source": [
    "avg_rat_model = AverageRatingModel()\n",
    "\n",
    "avg_rat_model.fit(train_dataset)"
   ]
  },
  {
   "cell_type": "code",
   "execution_count": 129,
   "metadata": {},
   "outputs": [
    {
     "data": {
      "text/html": [
       "<div>\n",
       "<style scoped>\n",
       "    .dataframe tbody tr th:only-of-type {\n",
       "        vertical-align: middle;\n",
       "    }\n",
       "\n",
       "    .dataframe tbody tr th {\n",
       "        vertical-align: top;\n",
       "    }\n",
       "\n",
       "    .dataframe thead th {\n",
       "        text-align: right;\n",
       "    }\n",
       "</style>\n",
       "<table border=\"1\" class=\"dataframe\">\n",
       "  <thead>\n",
       "    <tr style=\"text-align: right;\">\n",
       "      <th></th>\n",
       "      <th>0</th>\n",
       "      <th>1</th>\n",
       "      <th>2</th>\n",
       "      <th>3</th>\n",
       "      <th>4</th>\n",
       "      <th>5</th>\n",
       "      <th>6</th>\n",
       "      <th>7</th>\n",
       "      <th>8</th>\n",
       "      <th>9</th>\n",
       "      <th>...</th>\n",
       "      <th>59037</th>\n",
       "      <th>59038</th>\n",
       "      <th>59039</th>\n",
       "      <th>59040</th>\n",
       "      <th>59041</th>\n",
       "      <th>59042</th>\n",
       "      <th>59043</th>\n",
       "      <th>59044</th>\n",
       "      <th>59045</th>\n",
       "      <th>59046</th>\n",
       "    </tr>\n",
       "  </thead>\n",
       "  <tbody>\n",
       "    <tr>\n",
       "      <th>0</th>\n",
       "      <td>2.5</td>\n",
       "      <td>3.890982</td>\n",
       "      <td>3.249743</td>\n",
       "      <td>3.151702</td>\n",
       "      <td>2.847912</td>\n",
       "      <td>3.061481</td>\n",
       "      <td>3.853101</td>\n",
       "      <td>3.367588</td>\n",
       "      <td>3.095368</td>\n",
       "      <td>2.991605</td>\n",
       "      <td>...</td>\n",
       "      <td>3.0</td>\n",
       "      <td>2.769231</td>\n",
       "      <td>2.666667</td>\n",
       "      <td>2.25</td>\n",
       "      <td>1.916667</td>\n",
       "      <td>2.666667</td>\n",
       "      <td>3.416667</td>\n",
       "      <td>2.984127</td>\n",
       "      <td>3.0</td>\n",
       "      <td>3.25</td>\n",
       "    </tr>\n",
       "  </tbody>\n",
       "</table>\n",
       "<p>1 rows × 59047 columns</p>\n",
       "</div>"
      ],
      "text/plain": [
       "   0         1         2         3         4         5         6      \\\n",
       "0    2.5  3.890982  3.249743  3.151702  2.847912  3.061481  3.853101   \n",
       "\n",
       "      7         8         9      ...  59037     59038     59039  59040  \\\n",
       "0  3.367588  3.095368  2.991605  ...    3.0  2.769231  2.666667   2.25   \n",
       "\n",
       "      59041     59042     59043     59044  59045  59046  \n",
       "0  1.916667  2.666667  3.416667  2.984127    3.0   3.25  \n",
       "\n",
       "[1 rows x 59047 columns]"
      ]
     },
     "execution_count": 129,
     "metadata": {},
     "output_type": "execute_result"
    }
   ],
   "source": [
    "avg_rat_model.avg_ratings_df.head()"
   ]
  },
  {
   "cell_type": "markdown",
   "metadata": {},
   "source": [
    "<h1> Evaluate </h1>"
   ]
  },
  {
   "cell_type": "code",
   "execution_count": 131,
   "metadata": {},
   "outputs": [],
   "source": [
    "import numpy as np\n",
    "from scipy.sparse import coo_matrix, lil_matrix\n",
    "\n",
    "# Initialize empty lists to store the row indices, column indices, and values\n",
    "row_indices_80 = []\n",
    "col_indices_80 = []\n",
    "values_80 = []\n",
    "\n",
    "row_indices_20 = []\n",
    "col_indices_20 = []\n",
    "values_20 = []\n",
    "\n",
    "# Iterate over each row in test_dataset\n",
    "for row_idx in range(test_dataset.shape[0]):\n",
    "    # Get the non-zero indices and values for the current row\n",
    "    non_zero_indices = test_dataset[row_idx].nonzero()[1]\n",
    "    non_zero_values = test_dataset[row_idx].data\n",
    "    \n",
    "    # Calculate the number of non-zero values to include in the 80% matrix\n",
    "    num_values_80 = int(len(non_zero_values) * 0.8)\n",
    "    \n",
    "    # Split the non-zero indices and values into 80% and 20% portions\n",
    "    indices_80 = np.random.choice(non_zero_indices, size=num_values_80, replace=False)\n",
    "    indices_20 = np.setdiff1d(non_zero_indices, indices_80)\n",
    "    \n",
    "    values_80.extend(non_zero_values[np.isin(non_zero_indices, indices_80)])\n",
    "    values_20.extend(non_zero_values[np.isin(non_zero_indices, indices_20)])\n",
    "    \n",
    "    row_indices_80.extend([row_idx] * len(indices_80))\n",
    "    row_indices_20.extend([row_idx] * len(indices_20))\n",
    "    \n",
    "    col_indices_80.extend(indices_80)\n",
    "    col_indices_20.extend(indices_20)\n",
    "\n",
    "# Create the 80% and 20% csc_matrix objects\n",
    "input_ratings = csc_matrix((values_80, (row_indices_80, col_indices_80)))\n",
    "test_ratings = csc_matrix((values_20, (row_indices_20, col_indices_20)))\n",
    "\n"
   ]
  },
  {
   "cell_type": "code",
   "execution_count": 142,
   "metadata": {},
   "outputs": [],
   "source": [
    "def compare_ratings(predictions: csc_matrix, test_ratings: csc_matrix):\n",
    "    test_ratings_array = []\n",
    "    predictions_array = []\n",
    "    for rating in test_ratings.nonzero()[0]:\n",
    "        test_ratings_array.append(test_ratings[rating, 0])\n",
    "        predictions_array.append(predictions[rating, 0])\n",
    "    return test_ratings_array, predictions_array\n"
   ]
  },
  {
   "cell_type": "code",
   "execution_count": 132,
   "metadata": {},
   "outputs": [],
   "source": [
    "lil_input = lil_matrix(input_ratings)"
   ]
  },
  {
   "cell_type": "code",
   "execution_count": 143,
   "metadata": {},
   "outputs": [],
   "source": [
    "test_ratings_array = []\n",
    "predictions_array = []\n",
    "# Batch the code by every 100 records\n",
    "for i in range(0, lil_input.shape[0], 100):\n",
    "    batch_predictions = avg_rat_model.predict(lil_input[i:i+100])\n",
    "    batch_test_ratings = test_ratings[i:i+100]\n",
    "    tr, pred = compare_ratings(batch_predictions, batch_test_ratings)\n",
    "    test_ratings_array.extend(tr)\n",
    "    predictions_array.extend(pred)"
   ]
  },
  {
   "cell_type": "code",
   "execution_count": null,
   "metadata": {},
   "outputs": [],
   "source": [
    "import numpy as np\n",
    "#Root mean-squared error (RMSE)\n",
    "rmse = sklearn.metrics.mean_squared_error(test_ratings_array, predictions_array)\n",
    "print('rmse: ', rmse)\n",
    "#Boxplot of true vs predicted ratings\n",
    "import matplotlib.pyplot as plt\n",
    "\n",
    "# Create a figure and axis\n",
    "fig, ax = plt.subplots()\n",
    "\n",
    "# Create a boxplot of test_ratings_array and predictions_array\n",
    "ax.boxplot([test_ratings_array, predictions_array])\n",
    "\n",
    "# Set the labels for x-axis and y-axis\n",
    "ax.set_xticklabels(['Test Ratings', 'Predictions'])\n",
    "ax.set_ylabel('Ratings')\n",
    "\n",
    "# Set the title of the plot\n",
    "ax.set_title('Boxplot of Test Ratings vs Predictions')\n",
    "\n",
    "# Show the plot\n",
    "plt.show()\n",
    "\n",
    "#Pearson's Correlation Coefficient (R2)\n",
    "r2 = sklearn.metrics.r2_score(test_ratings_array, predictions_array) \n",
    "print('r2: ', r2)\n",
    "#Fraction of user-movie pairs with non-zero predicted ratings\n",
    "print('Fraction of user-movie pairs with non-zero predicted ratings ', np.count_nonzero(predictions_array)/len(predictions_array)\n",
    "#Fraction of user-movie ratings with a predicted values (recall)\n",
    "subtracted_array = np.subtract(predictions_array, test_ratings_array) #zeros mean perfect match\n",
    "\n",
    "print('Fraction of user-movie pairs with non-zero predicted ratings ', np.count_nonzero(subtracted_array)/len(subtracted_array)\n",
    "#RMSE is appropriate if we want to exactly the predict the ratings of the users.  R2 is useful if we don't care about the ranges of the ratings, just that the predicted ratings rank items in a manner consistent with the user-provided ratings.  The MovieLens ratings are in increments of 0.5.  This makes it easy to visualize the relationships between the user-provided and predicted ratings using a boxplot (user-provided ratings on the X axis, predicted ratings on the Y axis).\n"
   ]
  }
 ],
 "metadata": {
  "kernelspec": {
   "display_name": "AverageRatingsImplementation-7JwYyYnJ",
   "language": "python",
   "name": "python3"
  },
  "language_info": {
   "codemirror_mode": {
    "name": "ipython",
    "version": 3
   },
   "file_extension": ".py",
   "mimetype": "text/x-python",
   "name": "python",
   "nbconvert_exporter": "python",
   "pygments_lexer": "ipython3",
   "version": "3.11.5"
  }
 },
 "nbformat": 4,
 "nbformat_minor": 2
}
