{
 "cells": [
  {
   "cell_type": "markdown",
   "metadata": {},
   "source": [
    "<h1>Average Ratings Implementation </h1>\n",
    "\n",
    "Outlines a base scikit learn pipeline for using average ratings to determine recommendations for a user. \n",
    "\n",
    "Lessons learned:\n",
    "\n",
    "*scipy api is quite funky. Long gone are the days of linq queries to manipulate sets. Thought it was interesting that coo matrixes do not allow grabbing a single entry\n",
    "\n",
    "*slicing the test user set into another 80/20 set of \"inputs for the model\" vs \"things to test agaisnt\" was quite tricky and I'm sure I overthought it\n",
    "\n",
    "*big data, big pain! Took a while to figure out performance\n",
    "\n",
    "**Things were much easier to figure out when I realized I should just process a subset of the dataset to figure out the logic and then circle back to figure out performance"
   ]
  },
  {
   "cell_type": "code",
   "execution_count": 3,
   "metadata": {},
   "outputs": [
    {
     "name": "stderr",
     "output_type": "stream",
     "text": [
      "C:\\Users\\miked\\AppData\\Local\\Temp\\ipykernel_62928\\1377437179.py:1: DeprecationWarning: \n",
      "Pyarrow will become a required dependency of pandas in the next major release of pandas (pandas 3.0),\n",
      "(to allow more performant data types, such as the Arrow string type, and better interoperability with other libraries)\n",
      "but was not found to be installed on your system.\n",
      "If this would cause problems for you,\n",
      "please provide us feedback at https://github.com/pandas-dev/pandas/issues/54466\n",
      "        \n",
      "  import pandas as pd\n"
     ]
    }
   ],
   "source": [
    "import pandas as pd\n",
    "from scipy.sparse import csr_matrix, csc_matrix\n",
    "import numpy as np"
   ]
  },
  {
   "cell_type": "markdown",
   "metadata": {},
   "source": [
    "<h1> Load Data </h1>"
   ]
  },
  {
   "cell_type": "code",
   "execution_count": 4,
   "metadata": {},
   "outputs": [],
   "source": [
    "movies_df = pd.read_csv('data/movies.csv')\n",
    "ratings_df = pd.read_csv('data/ratings.csv')"
   ]
  },
  {
   "cell_type": "code",
   "execution_count": 5,
   "metadata": {},
   "outputs": [
    {
     "data": {
      "text/html": [
       "<div>\n",
       "<style scoped>\n",
       "    .dataframe tbody tr th:only-of-type {\n",
       "        vertical-align: middle;\n",
       "    }\n",
       "\n",
       "    .dataframe tbody tr th {\n",
       "        vertical-align: top;\n",
       "    }\n",
       "\n",
       "    .dataframe thead th {\n",
       "        text-align: right;\n",
       "    }\n",
       "</style>\n",
       "<table border=\"1\" class=\"dataframe\">\n",
       "  <thead>\n",
       "    <tr style=\"text-align: right;\">\n",
       "      <th></th>\n",
       "      <th>movieId</th>\n",
       "      <th>title</th>\n",
       "      <th>genres</th>\n",
       "    </tr>\n",
       "  </thead>\n",
       "  <tbody>\n",
       "    <tr>\n",
       "      <th>0</th>\n",
       "      <td>1</td>\n",
       "      <td>Toy Story (1995)</td>\n",
       "      <td>Adventure|Animation|Children|Comedy|Fantasy</td>\n",
       "    </tr>\n",
       "    <tr>\n",
       "      <th>1</th>\n",
       "      <td>2</td>\n",
       "      <td>Jumanji (1995)</td>\n",
       "      <td>Adventure|Children|Fantasy</td>\n",
       "    </tr>\n",
       "    <tr>\n",
       "      <th>2</th>\n",
       "      <td>3</td>\n",
       "      <td>Grumpier Old Men (1995)</td>\n",
       "      <td>Comedy|Romance</td>\n",
       "    </tr>\n",
       "    <tr>\n",
       "      <th>3</th>\n",
       "      <td>4</td>\n",
       "      <td>Waiting to Exhale (1995)</td>\n",
       "      <td>Comedy|Drama|Romance</td>\n",
       "    </tr>\n",
       "    <tr>\n",
       "      <th>4</th>\n",
       "      <td>5</td>\n",
       "      <td>Father of the Bride Part II (1995)</td>\n",
       "      <td>Comedy</td>\n",
       "    </tr>\n",
       "  </tbody>\n",
       "</table>\n",
       "</div>"
      ],
      "text/plain": [
       "   movieId                               title  \\\n",
       "0        1                    Toy Story (1995)   \n",
       "1        2                      Jumanji (1995)   \n",
       "2        3             Grumpier Old Men (1995)   \n",
       "3        4            Waiting to Exhale (1995)   \n",
       "4        5  Father of the Bride Part II (1995)   \n",
       "\n",
       "                                        genres  \n",
       "0  Adventure|Animation|Children|Comedy|Fantasy  \n",
       "1                   Adventure|Children|Fantasy  \n",
       "2                               Comedy|Romance  \n",
       "3                         Comedy|Drama|Romance  \n",
       "4                                       Comedy  "
      ]
     },
     "execution_count": 5,
     "metadata": {},
     "output_type": "execute_result"
    }
   ],
   "source": [
    "original_movie_ids = set(movies_df[\"movieId\"])\n",
    "movie_id_map = {original : new for new, original in enumerate(original_movie_ids) }\n",
    "movies_df[\"movieId\"] = movies_df[\"movieId\"].map(movie_id_map)\n",
    "movies_df.head()"
   ]
  },
  {
   "cell_type": "code",
   "execution_count": 6,
   "metadata": {},
   "outputs": [
    {
     "data": {
      "text/html": [
       "<div>\n",
       "<style scoped>\n",
       "    .dataframe tbody tr th:only-of-type {\n",
       "        vertical-align: middle;\n",
       "    }\n",
       "\n",
       "    .dataframe tbody tr th {\n",
       "        vertical-align: top;\n",
       "    }\n",
       "\n",
       "    .dataframe thead th {\n",
       "        text-align: right;\n",
       "    }\n",
       "</style>\n",
       "<table border=\"1\" class=\"dataframe\">\n",
       "  <thead>\n",
       "    <tr style=\"text-align: right;\">\n",
       "      <th></th>\n",
       "      <th>userId</th>\n",
       "      <th>movieId</th>\n",
       "      <th>rating</th>\n",
       "      <th>timestamp</th>\n",
       "    </tr>\n",
       "  </thead>\n",
       "  <tbody>\n",
       "    <tr>\n",
       "      <th>0</th>\n",
       "      <td>1</td>\n",
       "      <td>296</td>\n",
       "      <td>5.0</td>\n",
       "      <td>1147880044</td>\n",
       "    </tr>\n",
       "    <tr>\n",
       "      <th>1</th>\n",
       "      <td>1</td>\n",
       "      <td>306</td>\n",
       "      <td>3.5</td>\n",
       "      <td>1147868817</td>\n",
       "    </tr>\n",
       "    <tr>\n",
       "      <th>2</th>\n",
       "      <td>1</td>\n",
       "      <td>307</td>\n",
       "      <td>5.0</td>\n",
       "      <td>1147868828</td>\n",
       "    </tr>\n",
       "    <tr>\n",
       "      <th>3</th>\n",
       "      <td>1</td>\n",
       "      <td>665</td>\n",
       "      <td>5.0</td>\n",
       "      <td>1147878820</td>\n",
       "    </tr>\n",
       "    <tr>\n",
       "      <th>4</th>\n",
       "      <td>1</td>\n",
       "      <td>899</td>\n",
       "      <td>3.5</td>\n",
       "      <td>1147868510</td>\n",
       "    </tr>\n",
       "  </tbody>\n",
       "</table>\n",
       "</div>"
      ],
      "text/plain": [
       "   userId  movieId  rating   timestamp\n",
       "0       1      296     5.0  1147880044\n",
       "1       1      306     3.5  1147868817\n",
       "2       1      307     5.0  1147868828\n",
       "3       1      665     5.0  1147878820\n",
       "4       1      899     3.5  1147868510"
      ]
     },
     "execution_count": 6,
     "metadata": {},
     "output_type": "execute_result"
    }
   ],
   "source": [
    "original_movie_ids = set(ratings_df[\"movieId\"])\n",
    "movie_id_map = {original : new for new, original in enumerate(original_movie_ids) }\n",
    "ratings_df[\"movieId\"] = ratings_df[\"movieId\"].map(movie_id_map)\n",
    "ratings_df.head()"
   ]
  },
  {
   "cell_type": "markdown",
   "metadata": {},
   "source": [
    "<h1> Build Raiding Matrix </h1>"
   ]
  },
  {
   "cell_type": "code",
   "execution_count": 7,
   "metadata": {},
   "outputs": [],
   "source": [
    "\n",
    "\n",
    "# Get the unique user IDs and movie IDs\n",
    "user_ids = ratings_df['userId'].unique()\n",
    "movie_ids = ratings_df['movieId'].unique()\n",
    "\n",
    "# Create a dictionary to map movie IDs to column indices\n",
    "movie_id_map = {movie_id: i for i, movie_id in enumerate(movie_ids)}"
   ]
  },
  {
   "cell_type": "code",
   "execution_count": 8,
   "metadata": {},
   "outputs": [
    {
     "data": {
      "text/plain": [
       "59047"
      ]
     },
     "execution_count": 8,
     "metadata": {},
     "output_type": "execute_result"
    }
   ],
   "source": [
    "len(movie_ids)"
   ]
  },
  {
   "cell_type": "code",
   "execution_count": 9,
   "metadata": {},
   "outputs": [],
   "source": [
    "\n",
    "# Initialize lists to store the row indices, column indices, and ratings\n",
    "row_indices = []\n",
    "col_indices = []\n",
    "ratings = []\n",
    "\n",
    "# Iterate over the ratings dataframe\n",
    "for _, row in ratings_df.iterrows():\n",
    "    row_indices.append(int(row['userId']))\n",
    "    col_indices.append(int(row['movieId']))\n",
    "    ratings.append(row['rating'])"
   ]
  },
  {
   "cell_type": "code",
   "execution_count": 10,
   "metadata": {},
   "outputs": [
    {
     "data": {
      "text/plain": [
       "(162542, 59047)"
      ]
     },
     "execution_count": 10,
     "metadata": {},
     "output_type": "execute_result"
    }
   ],
   "source": [
    "# Create the sparse spatial matrix\n",
    "sparse_matrix = csr_matrix((ratings, (row_indices, col_indices)))\n",
    "sparse_matrix.shape"
   ]
  },
  {
   "cell_type": "markdown",
   "metadata": {},
   "source": [
    "<h1> Define training function </h1>"
   ]
  },
  {
   "cell_type": "code",
   "execution_count": 12,
   "metadata": {},
   "outputs": [],
   "source": [
    "def Average(lst): \n",
    "    return sum(lst) / len(lst) "
   ]
  },
  {
   "cell_type": "code",
   "execution_count": 13,
   "metadata": {},
   "outputs": [],
   "source": [
    "def getColumnAverage(matrix, column_index):\n",
    "    col = matrix.getcol(column_index)\n",
    "    non_zero_column = col[col.nonzero()]\n",
    "    return Average(np.squeeze(np.asarray(non_zero_column)))"
   ]
  },
  {
   "cell_type": "code",
   "execution_count": 14,
   "metadata": {},
   "outputs": [],
   "source": [
    "from sklearn.base import BaseEstimator\n",
    "\n",
    "class AverageRatingModel(BaseEstimator):\n",
    "    avg_ratings = None\n",
    "        \n",
    "    def fit(self, training_ratings_matrix: csc_matrix):\n",
    "        # Calculate the column-wise average of the sparse matrix\n",
    "        averages = training_ratings_matrix.sum(0) / training_ratings_matrix.getnnz(0)\n",
    "        self.avg_ratings = averages[0]\n",
    "        \n",
    "    def predict(self, user_ratings_matrix):  \n",
    "        # Create a matrix of avg_ratings with duplicate rows\n",
    "        avg_ratings_matrix = np.repeat(self.avg_ratings, user_ratings_matrix.shape[0], axis=0)\n",
    "        # Return the avg_ratings_matrix\n",
    "        return avg_ratings_matrix   "
   ]
  },
  {
   "cell_type": "markdown",
   "metadata": {},
   "source": [
    "<h1> Run Training </h1>"
   ]
  },
  {
   "cell_type": "code",
   "execution_count": 16,
   "metadata": {},
   "outputs": [],
   "source": [
    "from sklearn.model_selection import train_test_split\n",
    "\n",
    "train_dataset, test_dataset = train_test_split(sparse_matrix, test_size=0.2, train_size=0.8)\n"
   ]
  },
  {
   "cell_type": "code",
   "execution_count": 17,
   "metadata": {},
   "outputs": [
    {
     "name": "stderr",
     "output_type": "stream",
     "text": [
      "C:\\Users\\miked\\AppData\\Local\\Temp\\ipykernel_62928\\3076830561.py:8: RuntimeWarning: invalid value encountered in divide\n",
      "  averages = training_ratings_matrix.sum(0) / training_ratings_matrix.getnnz(0)\n"
     ]
    }
   ],
   "source": [
    "avg_rat_model = AverageRatingModel()\n",
    "\n",
    "avg_rat_model.fit(train_dataset)"
   ]
  },
  {
   "cell_type": "code",
   "execution_count": 18,
   "metadata": {},
   "outputs": [
    {
     "name": "stdout",
     "output_type": "stream",
     "text": [
      "(1, 59047)\n",
      "(130033, 59047)\n",
      "(32509, 59047)\n"
     ]
    }
   ],
   "source": [
    "print(avg_rat_model.avg_ratings.shape)\n",
    "\n",
    "print(train_dataset.shape)\n",
    "\n",
    "print(test_dataset.shape)"
   ]
  },
  {
   "cell_type": "markdown",
   "metadata": {},
   "source": [
    "<h1> Evaluate </h1>"
   ]
  },
  {
   "cell_type": "code",
   "execution_count": 20,
   "metadata": {},
   "outputs": [],
   "source": [
    "import numpy as np\n",
    "\n",
    "# Initialize empty lists to store the row indices, column indices, and values\n",
    "row_indices_80 = []\n",
    "col_indices_80 = []\n",
    "values_80 = []\n",
    "\n",
    "row_indices_20 = []\n",
    "col_indices_20 = []\n",
    "values_20 = []\n",
    "\n",
    "# Iterate over each row in test_dataset\n",
    "for row_idx in range(test_dataset.shape[0]):\n",
    "    # Get the non-zero indices and values for the current row\n",
    "    non_zero_indices = test_dataset[row_idx].nonzero()[1]\n",
    "    non_zero_values = test_dataset[row_idx].data\n",
    "    \n",
    "    # Calculate the number of non-zero values to include in the 80% matrix\n",
    "    num_values_80 = int(len(non_zero_values) * 0.8)\n",
    "    \n",
    "    # Split the non-zero indices and values into 80% and 20% portions\n",
    "    indices_80 = np.random.choice(non_zero_indices, size=num_values_80, replace=False)\n",
    "    indices_20 = np.setdiff1d(non_zero_indices, indices_80)\n",
    "    \n",
    "    values_80.extend(non_zero_values[np.isin(non_zero_indices, indices_80)])\n",
    "    values_20.extend(non_zero_values[np.isin(non_zero_indices, indices_20)])\n",
    "    \n",
    "    row_indices_80.extend([row_idx] * len(indices_80))\n",
    "    row_indices_20.extend([row_idx] * len(indices_20))\n",
    "    \n",
    "    col_indices_80.extend(indices_80)\n",
    "    col_indices_20.extend(indices_20)\n",
    "\n",
    "# Create the 80% and 20% csc_matrix objects\n",
    "input_ratings = csc_matrix((values_80, (row_indices_80, col_indices_80)))\n",
    "test_ratings = csc_matrix((values_20, (row_indices_20, col_indices_20)))"
   ]
  },
  {
   "cell_type": "code",
   "execution_count": 21,
   "metadata": {},
   "outputs": [],
   "source": [
    "#Need to resize the input_ratings and test_ratings to match the shape of the original test_dataset to fix the columns dropped for having no avg rating (due to no ratings existing period)\n",
    "input_ratings.resize(test_dataset.shape)\n",
    "test_ratings.resize(test_dataset.shape)"
   ]
  },
  {
   "cell_type": "code",
   "execution_count": 22,
   "metadata": {},
   "outputs": [],
   "source": [
    "#load the ratings back into an array in order to compare them\n",
    "def compare_ratings(predictions: csc_matrix, test_ratings: csc_matrix):\n",
    "    test_ratings_array = []\n",
    "    predictions_array = []\n",
    "    \n",
    "    non_zero_indices = test_ratings.nonzero()\n",
    "    for i in non_zero_indices[0]:\n",
    "        for j in non_zero_indices[1]:\n",
    "            test_ratings_array.append(test_ratings[i,j])\n",
    "            predictions_array.append(predictions[i,j])\n",
    "    return test_ratings_array, predictions_array\n"
   ]
  },
  {
   "cell_type": "code",
   "execution_count": 24,
   "metadata": {},
   "outputs": [],
   "source": [
    "test_ratings_array = []\n",
    "predictions_array = []\n",
    "batch_size = 1 #batch size of 1 ended up being significantly faster, scaling exponentially \n",
    "\n",
    "for i in range(0, input_ratings.shape[0], batch_size):\n",
    "    batch_input_og = input_ratings[i:i+batch_size]\n",
    "    batch_predictions = avg_rat_model.predict(batch_input_og)\n",
    "    batch_test_ratings = test_ratings[i:i+batch_size]\n",
    "    tr, pred = compare_ratings(batch_predictions, batch_test_ratings)\n",
    "    test_ratings_array.extend(tr)\n",
    "    predictions_array.extend(pred)\n",
    "    #break #this is just to short circuit the loop for testing purposes"
   ]
  },
  {
   "cell_type": "code",
   "execution_count": 27,
   "metadata": {},
   "outputs": [
    {
     "name": "stdout",
     "output_type": "stream",
     "text": [
      "False\n"
     ]
    }
   ],
   "source": [
    "import numpy as np\n",
    "\n",
    "# Replace NaNs that came from dividing by 0 in the fit with 0s, probabbly could do this further up stream, but figured this made the predict loop faster\n",
    "predictions_array = np.nan_to_num(predictions_array)\n",
    "contains_nan = np.isnan(predictions_array).any()\n",
    "print(contains_nan)\n",
    "\n"
   ]
  },
  {
   "cell_type": "code",
   "execution_count": 31,
   "metadata": {},
   "outputs": [
    {
     "data": {
      "image/png": "[encoded data removed]",
      "text/plain": [
       "<Figure size 640x480 with 1 Axes>"
      ]
     },
     "metadata": {},
     "output_type": "display_data"
    }
   ],
   "source": [
    "from matplotlib import pyplot as plt\n",
    "import seaborn as sns\n",
    "\n",
    "\n",
    "# Create a new array to store the rounded predictions\n",
    "rounded_predictions_array = np.round(predictions_array * 2) / 2\n",
    "\n",
    "# Combine the test_ratings_array and rounded_predictions_array into a DataFrame\n",
    "data = pd.DataFrame({'Test Ratings': test_ratings_array, 'Predictions': rounded_predictions_array})\n",
    "\n",
    "# Create a figure and axis\n",
    "fig, ax = plt.subplots()\n",
    "\n",
    "# Create a boxplot using seaborn\n",
    "sns.boxplot(data=data, x='Test Ratings', y='Predictions', ax=ax)\n",
    "\n",
    "# Set the labels for x-axis and y-axis\n",
    "ax.set_xlabel('Test Ratings')\n",
    "ax.set_ylabel('Predictions')\n",
    "\n",
    "# Set the title of the plot\n",
    "ax.set_title('Boxplot of Test Ratings vs Predictions')\n",
    "\n",
    "# Show the plot\n",
    "plt.show()"
   ]
  },
  {
   "cell_type": "code",
   "execution_count": 32,
   "metadata": {},
   "outputs": [
    {
     "name": "stdout",
     "output_type": "stream",
     "text": [
      "rmse:  0.9499019275199527\n",
      "r2:  0.17882501693724306\n",
      "Fraction of user-movie pairs with non-zero predicted ratings  0.9990399113515667\n",
      "Fraction of user-movie pairs with non-zero predicted ratings  0.7619437210368096\n"
     ]
    }
   ],
   "source": [
    "import numpy as np\n",
    "from sklearn.metrics import mean_squared_error, r2_score\n",
    "#Root mean-squared error (RMSE)\n",
    "rmse = mean_squared_error(test_ratings_array, predictions_array)\n",
    "print('rmse: ', rmse)\n",
    "#Pearson's Correlation Coefficient (R2)\n",
    "r2 = r2_score(test_ratings_array, predictions_array) \n",
    "print('r2: ', r2)\n",
    "#Fraction of user-movie pairs with non-zero predicted ratings\n",
    "print('Fraction of user-movie pairs with non-zero predicted ratings ', np.count_nonzero(predictions_array)/len(predictions_array))\n",
    "#Fraction of user-movie ratings with a predicted values (recall)\n",
    "subtracted_array = np.subtract(predictions_array, test_ratings_array) #zeros mean perfect match\n",
    "subtracted_array_rounded = np.round(subtracted_array * 2) / 2 #round to nearest 0.5\n",
    "\n",
    "print('Fraction of user-movie pairs with non-zero predicted ratings ', np.count_nonzero(subtracted_array_rounded)/len(subtracted_array))\n",
    "#RMSE is appropriate if we want to exactly the predict the ratings of the users.  R2 is useful if we don't care about the ranges of the ratings, just that the predicted ratings rank items in a manner consistent with the user-provided ratings.  The MovieLens ratings are in increments of 0.5.  This makes it easy to visualize the relationships between the user-provided and predicted ratings using a boxplot (user-provided ratings on the X axis, predicted ratings on the Y axis).\n"
   ]
  },
  {
   "cell_type": "code",
   "execution_count": null,
   "metadata": {},
   "outputs": [],
   "source": []
  }
 ],
 "metadata": {
  "kernelspec": {
   "display_name": "AverageRatingsImplementation-7JwYyYnJ",
   "language": "python",
   "name": "python3"
  },
  "language_info": {
   "codemirror_mode": {
    "name": "ipython",
    "version": 3
   },
   "file_extension": ".py",
   "mimetype": "text/x-python",
   "name": "python",
   "nbconvert_exporter": "python",
   "pygments_lexer": "ipython3",
   "version": "3.11.5"
  }
 },
 "nbformat": 4,
 "nbformat_minor": 2
}
