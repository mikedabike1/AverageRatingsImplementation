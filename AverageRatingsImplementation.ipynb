{
 "cells": [
  {
   "cell_type": "code",
   "execution_count": 2,
   "metadata": {},
   "outputs": [
    {
     "name": "stderr",
     "output_type": "stream",
     "text": [
      "C:\\Users\\miked\\AppData\\Local\\Temp\\ipykernel_18760\\1377437179.py:1: DeprecationWarning: \n",
      "Pyarrow will become a required dependency of pandas in the next major release of pandas (pandas 3.0),\n",
      "(to allow more performant data types, such as the Arrow string type, and better interoperability with other libraries)\n",
      "but was not found to be installed on your system.\n",
      "If this would cause problems for you,\n",
      "please provide us feedback at https://github.com/pandas-dev/pandas/issues/54466\n",
      "        \n",
      "  import pandas as pd\n"
     ]
    }
   ],
   "source": [
    "import pandas as pd\n",
    "from scipy.sparse import csr_matrix, csc_matrix, coo_matrix\n",
    "import numpy as np"
   ]
  },
  {
   "cell_type": "markdown",
   "metadata": {},
   "source": [
    "<h1> Load Data </h1>"
   ]
  },
  {
   "cell_type": "code",
   "execution_count": 3,
   "metadata": {},
   "outputs": [],
   "source": [
    "movies_df = pd.read_csv('data/movies.csv')\n",
    "ratings_df = pd.read_csv('data/ratings.csv')"
   ]
  },
  {
   "cell_type": "code",
   "execution_count": 4,
   "metadata": {},
   "outputs": [
    {
     "data": {
      "text/html": [
       "<div>\n",
       "<style scoped>\n",
       "    .dataframe tbody tr th:only-of-type {\n",
       "        vertical-align: middle;\n",
       "    }\n",
       "\n",
       "    .dataframe tbody tr th {\n",
       "        vertical-align: top;\n",
       "    }\n",
       "\n",
       "    .dataframe thead th {\n",
       "        text-align: right;\n",
       "    }\n",
       "</style>\n",
       "<table border=\"1\" class=\"dataframe\">\n",
       "  <thead>\n",
       "    <tr style=\"text-align: right;\">\n",
       "      <th></th>\n",
       "      <th>movieId</th>\n",
       "      <th>title</th>\n",
       "      <th>genres</th>\n",
       "    </tr>\n",
       "  </thead>\n",
       "  <tbody>\n",
       "    <tr>\n",
       "      <th>0</th>\n",
       "      <td>1</td>\n",
       "      <td>Toy Story (1995)</td>\n",
       "      <td>Adventure|Animation|Children|Comedy|Fantasy</td>\n",
       "    </tr>\n",
       "    <tr>\n",
       "      <th>1</th>\n",
       "      <td>2</td>\n",
       "      <td>Jumanji (1995)</td>\n",
       "      <td>Adventure|Children|Fantasy</td>\n",
       "    </tr>\n",
       "    <tr>\n",
       "      <th>2</th>\n",
       "      <td>3</td>\n",
       "      <td>Grumpier Old Men (1995)</td>\n",
       "      <td>Comedy|Romance</td>\n",
       "    </tr>\n",
       "    <tr>\n",
       "      <th>3</th>\n",
       "      <td>4</td>\n",
       "      <td>Waiting to Exhale (1995)</td>\n",
       "      <td>Comedy|Drama|Romance</td>\n",
       "    </tr>\n",
       "    <tr>\n",
       "      <th>4</th>\n",
       "      <td>5</td>\n",
       "      <td>Father of the Bride Part II (1995)</td>\n",
       "      <td>Comedy</td>\n",
       "    </tr>\n",
       "  </tbody>\n",
       "</table>\n",
       "</div>"
      ],
      "text/plain": [
       "   movieId                               title  \\\n",
       "0        1                    Toy Story (1995)   \n",
       "1        2                      Jumanji (1995)   \n",
       "2        3             Grumpier Old Men (1995)   \n",
       "3        4            Waiting to Exhale (1995)   \n",
       "4        5  Father of the Bride Part II (1995)   \n",
       "\n",
       "                                        genres  \n",
       "0  Adventure|Animation|Children|Comedy|Fantasy  \n",
       "1                   Adventure|Children|Fantasy  \n",
       "2                               Comedy|Romance  \n",
       "3                         Comedy|Drama|Romance  \n",
       "4                                       Comedy  "
      ]
     },
     "execution_count": 4,
     "metadata": {},
     "output_type": "execute_result"
    }
   ],
   "source": [
    "original_movie_ids = set(movies_df[\"movieId\"])\n",
    "movie_id_map = {original : new for new, original in enumerate(original_movie_ids) }\n",
    "movies_df[\"movieId\"] = movies_df[\"movieId\"].map(movie_id_map)\n",
    "movies_df.head()"
   ]
  },
  {
   "cell_type": "code",
   "execution_count": 5,
   "metadata": {},
   "outputs": [
    {
     "data": {
      "text/html": [
       "<div>\n",
       "<style scoped>\n",
       "    .dataframe tbody tr th:only-of-type {\n",
       "        vertical-align: middle;\n",
       "    }\n",
       "\n",
       "    .dataframe tbody tr th {\n",
       "        vertical-align: top;\n",
       "    }\n",
       "\n",
       "    .dataframe thead th {\n",
       "        text-align: right;\n",
       "    }\n",
       "</style>\n",
       "<table border=\"1\" class=\"dataframe\">\n",
       "  <thead>\n",
       "    <tr style=\"text-align: right;\">\n",
       "      <th></th>\n",
       "      <th>userId</th>\n",
       "      <th>movieId</th>\n",
       "      <th>rating</th>\n",
       "      <th>timestamp</th>\n",
       "    </tr>\n",
       "  </thead>\n",
       "  <tbody>\n",
       "    <tr>\n",
       "      <th>0</th>\n",
       "      <td>1</td>\n",
       "      <td>296</td>\n",
       "      <td>5.0</td>\n",
       "      <td>1147880044</td>\n",
       "    </tr>\n",
       "    <tr>\n",
       "      <th>1</th>\n",
       "      <td>1</td>\n",
       "      <td>306</td>\n",
       "      <td>3.5</td>\n",
       "      <td>1147868817</td>\n",
       "    </tr>\n",
       "    <tr>\n",
       "      <th>2</th>\n",
       "      <td>1</td>\n",
       "      <td>307</td>\n",
       "      <td>5.0</td>\n",
       "      <td>1147868828</td>\n",
       "    </tr>\n",
       "    <tr>\n",
       "      <th>3</th>\n",
       "      <td>1</td>\n",
       "      <td>665</td>\n",
       "      <td>5.0</td>\n",
       "      <td>1147878820</td>\n",
       "    </tr>\n",
       "    <tr>\n",
       "      <th>4</th>\n",
       "      <td>1</td>\n",
       "      <td>899</td>\n",
       "      <td>3.5</td>\n",
       "      <td>1147868510</td>\n",
       "    </tr>\n",
       "  </tbody>\n",
       "</table>\n",
       "</div>"
      ],
      "text/plain": [
       "   userId  movieId  rating   timestamp\n",
       "0       1      296     5.0  1147880044\n",
       "1       1      306     3.5  1147868817\n",
       "2       1      307     5.0  1147868828\n",
       "3       1      665     5.0  1147878820\n",
       "4       1      899     3.5  1147868510"
      ]
     },
     "execution_count": 5,
     "metadata": {},
     "output_type": "execute_result"
    }
   ],
   "source": [
    "original_movie_ids = set(ratings_df[\"movieId\"])\n",
    "movie_id_map = {original : new for new, original in enumerate(original_movie_ids) }\n",
    "ratings_df[\"movieId\"] = ratings_df[\"movieId\"].map(movie_id_map)\n",
    "ratings_df.head()"
   ]
  },
  {
   "cell_type": "markdown",
   "metadata": {},
   "source": [
    "<h1> Build Raiding Matrix </h1>"
   ]
  },
  {
   "cell_type": "code",
   "execution_count": 6,
   "metadata": {},
   "outputs": [],
   "source": [
    "\n",
    "\n",
    "# Get the unique user IDs and movie IDs\n",
    "user_ids = ratings_df['userId'].unique()\n",
    "movie_ids = ratings_df['movieId'].unique()\n",
    "\n",
    "# Create a dictionary to map movie IDs to column indices\n",
    "movie_id_map = {movie_id: i for i, movie_id in enumerate(movie_ids)}\n",
    "\n",
    "\n",
    "\n"
   ]
  },
  {
   "cell_type": "code",
   "execution_count": 7,
   "metadata": {},
   "outputs": [
    {
     "data": {
      "text/plain": [
       "59047"
      ]
     },
     "execution_count": 7,
     "metadata": {},
     "output_type": "execute_result"
    }
   ],
   "source": [
    "len(movie_ids)"
   ]
  },
  {
   "cell_type": "code",
   "execution_count": 8,
   "metadata": {},
   "outputs": [],
   "source": [
    "\n",
    "# Initialize lists to store the row indices, column indices, and ratings\n",
    "row_indices = []\n",
    "col_indices = []\n",
    "ratings = []\n",
    "\n",
    "# Iterate over the ratings dataframe\n",
    "for _, row in ratings_df.iterrows():\n",
    "    row_indices.append(int(row['userId']))\n",
    "    col_indices.append(int(row['movieId']))\n",
    "    ratings.append(row['rating'])"
   ]
  },
  {
   "cell_type": "code",
   "execution_count": 9,
   "metadata": {},
   "outputs": [
    {
     "data": {
      "text/plain": [
       "(162542, 59047)"
      ]
     },
     "execution_count": 9,
     "metadata": {},
     "output_type": "execute_result"
    }
   ],
   "source": [
    "# Create the sparse spatial matrix\n",
    "sparse_matrix = csr_matrix((ratings, (row_indices, col_indices)))\n",
    "sparse_matrix.shape"
   ]
  },
  {
   "cell_type": "code",
   "execution_count": 10,
   "metadata": {},
   "outputs": [],
   "source": [
    "coo_matrix = coo_matrix((ratings, (row_indices, col_indices)))"
   ]
  },
  {
   "cell_type": "markdown",
   "metadata": {},
   "source": [
    "<h1> Define training function </h1>"
   ]
  },
  {
   "cell_type": "code",
   "execution_count": 27,
   "metadata": {},
   "outputs": [],
   "source": [
    "def Average(lst): \n",
    "    return sum(lst) / len(lst) "
   ]
  },
  {
   "cell_type": "code",
   "execution_count": 25,
   "metadata": {},
   "outputs": [
    {
     "data": {
      "text/plain": [
       "25000095"
      ]
     },
     "execution_count": 25,
     "metadata": {},
     "output_type": "execute_result"
    }
   ],
   "source": [
    "csr_matrix.count_nonzero(sparse_matrix)"
   ]
  },
  {
   "cell_type": "code",
   "execution_count": 94,
   "metadata": {},
   "outputs": [],
   "source": [
    "def getColumnAverage(matrix, column_index):\n",
    "    col = matrix.getcol(column_index)\n",
    "    non_zero_column = col[col.nonzero()]\n",
    "    return Average(np.squeeze(np.asarray(non_zero_column)))"
   ]
  },
  {
   "cell_type": "code",
   "execution_count": 95,
   "metadata": {},
   "outputs": [
    {
     "name": "stdout",
     "output_type": "stream",
     "text": [
      "3.893707794587238\n",
      "3.2515271586594023\n",
      "3.142028126058963\n",
      "2.85354736424891\n",
      "3.0584343520573674\n",
      "3.854908898649748\n"
     ]
    },
    {
     "ename": "KeyboardInterrupt",
     "evalue": "",
     "output_type": "error",
     "traceback": [
      "\u001b[1;31m---------------------------------------------------------------------------\u001b[0m",
      "\u001b[1;31mKeyboardInterrupt\u001b[0m                         Traceback (most recent call last)",
      "Cell \u001b[1;32mIn[95], line 2\u001b[0m\n\u001b[0;32m      1\u001b[0m \u001b[38;5;28;01mfor\u001b[39;00m i \u001b[38;5;129;01min\u001b[39;00m \u001b[38;5;28mrange\u001b[39m(\u001b[38;5;241m1\u001b[39m, np\u001b[38;5;241m.\u001b[39mshape(coo_matrix)[\u001b[38;5;241m1\u001b[39m] \u001b[38;5;241m+\u001b[39m \u001b[38;5;241m1\u001b[39m):\n\u001b[1;32m----> 2\u001b[0m     \u001b[38;5;28mprint\u001b[39m(\u001b[43mgetColumnAverage\u001b[49m\u001b[43m(\u001b[49m\u001b[43mcoo_matrix\u001b[49m\u001b[43m,\u001b[49m\u001b[43m \u001b[49m\u001b[43mi\u001b[49m\u001b[43m)\u001b[49m)\n",
      "Cell \u001b[1;32mIn[94], line 2\u001b[0m, in \u001b[0;36mgetColumnAverage\u001b[1;34m(matrix, column_index)\u001b[0m\n\u001b[0;32m      1\u001b[0m \u001b[38;5;28;01mdef\u001b[39;00m \u001b[38;5;21mgetColumnAverage\u001b[39m(matrix, column_index):\n\u001b[1;32m----> 2\u001b[0m     col \u001b[38;5;241m=\u001b[39m \u001b[43mmatrix\u001b[49m\u001b[38;5;241;43m.\u001b[39;49m\u001b[43mgetcol\u001b[49m\u001b[43m(\u001b[49m\u001b[43mcolumn_index\u001b[49m\u001b[43m)\u001b[49m\n\u001b[0;32m      3\u001b[0m     non_zero_column \u001b[38;5;241m=\u001b[39m col[col\u001b[38;5;241m.\u001b[39mnonzero()]\n\u001b[0;32m      4\u001b[0m     \u001b[38;5;28;01mreturn\u001b[39;00m Average(np\u001b[38;5;241m.\u001b[39msqueeze(np\u001b[38;5;241m.\u001b[39masarray(non_zero_column)))\n",
      "File \u001b[1;32mc:\\Users\\miked\\.virtualenvs\\AverageRatingsImplementation-7JwYyYnJ\\Lib\\site-packages\\scipy\\sparse\\_matrix.py:107\u001b[0m, in \u001b[0;36mspmatrix.getcol\u001b[1;34m(self, j)\u001b[0m\n\u001b[0;32m    103\u001b[0m \u001b[38;5;28;01mdef\u001b[39;00m \u001b[38;5;21mgetcol\u001b[39m(\u001b[38;5;28mself\u001b[39m, j):\n\u001b[0;32m    104\u001b[0m \u001b[38;5;250m    \u001b[39m\u001b[38;5;124;03m\"\"\"Returns a copy of column j of the matrix, as an (m x 1) sparse\u001b[39;00m\n\u001b[0;32m    105\u001b[0m \u001b[38;5;124;03m    matrix (column vector).\u001b[39;00m\n\u001b[0;32m    106\u001b[0m \u001b[38;5;124;03m    \"\"\"\u001b[39;00m\n\u001b[1;32m--> 107\u001b[0m     \u001b[38;5;28;01mreturn\u001b[39;00m \u001b[38;5;28;43mself\u001b[39;49m\u001b[38;5;241;43m.\u001b[39;49m\u001b[43m_getcol\u001b[49m\u001b[43m(\u001b[49m\u001b[43mj\u001b[49m\u001b[43m)\u001b[49m\n",
      "File \u001b[1;32mc:\\Users\\miked\\.virtualenvs\\AverageRatingsImplementation-7JwYyYnJ\\Lib\\site-packages\\scipy\\sparse\\_base.py:864\u001b[0m, in \u001b[0;36m_spbase._getcol\u001b[1;34m(self, j)\u001b[0m\n\u001b[0;32m    861\u001b[0m     \u001b[38;5;28;01mraise\u001b[39;00m \u001b[38;5;167;01mIndexError\u001b[39;00m(\u001b[38;5;124m\"\u001b[39m\u001b[38;5;124mindex out of bounds\u001b[39m\u001b[38;5;124m\"\u001b[39m)\n\u001b[0;32m    862\u001b[0m col_selector \u001b[38;5;241m=\u001b[39m \u001b[38;5;28mself\u001b[39m\u001b[38;5;241m.\u001b[39m_csc_container(([\u001b[38;5;241m1\u001b[39m], [[j], [\u001b[38;5;241m0\u001b[39m]]),\n\u001b[0;32m    863\u001b[0m                                    shape\u001b[38;5;241m=\u001b[39m(n, \u001b[38;5;241m1\u001b[39m), dtype\u001b[38;5;241m=\u001b[39m\u001b[38;5;28mself\u001b[39m\u001b[38;5;241m.\u001b[39mdtype)\n\u001b[1;32m--> 864\u001b[0m \u001b[38;5;28;01mreturn\u001b[39;00m \u001b[38;5;28;43mself\u001b[39;49m\u001b[43m \u001b[49m\u001b[38;5;241;43m@\u001b[39;49m\u001b[43m \u001b[49m\u001b[43mcol_selector\u001b[49m\n",
      "File \u001b[1;32mc:\\Users\\miked\\.virtualenvs\\AverageRatingsImplementation-7JwYyYnJ\\Lib\\site-packages\\scipy\\sparse\\_base.py:678\u001b[0m, in \u001b[0;36m_spbase.__matmul__\u001b[1;34m(self, other)\u001b[0m\n\u001b[0;32m    675\u001b[0m \u001b[38;5;28;01mif\u001b[39;00m isscalarlike(other):\n\u001b[0;32m    676\u001b[0m     \u001b[38;5;28;01mraise\u001b[39;00m \u001b[38;5;167;01mValueError\u001b[39;00m(\u001b[38;5;124m\"\u001b[39m\u001b[38;5;124mScalar operands are not allowed, \u001b[39m\u001b[38;5;124m\"\u001b[39m\n\u001b[0;32m    677\u001b[0m                      \u001b[38;5;124m\"\u001b[39m\u001b[38;5;124muse \u001b[39m\u001b[38;5;124m'\u001b[39m\u001b[38;5;124m*\u001b[39m\u001b[38;5;124m'\u001b[39m\u001b[38;5;124m instead\u001b[39m\u001b[38;5;124m\"\u001b[39m)\n\u001b[1;32m--> 678\u001b[0m \u001b[38;5;28;01mreturn\u001b[39;00m \u001b[38;5;28;43mself\u001b[39;49m\u001b[38;5;241;43m.\u001b[39;49m\u001b[43m_mul_dispatch\u001b[49m\u001b[43m(\u001b[49m\u001b[43mother\u001b[49m\u001b[43m)\u001b[49m\n",
      "File \u001b[1;32mc:\\Users\\miked\\.virtualenvs\\AverageRatingsImplementation-7JwYyYnJ\\Lib\\site-packages\\scipy\\sparse\\_base.py:589\u001b[0m, in \u001b[0;36m_spbase._mul_dispatch\u001b[1;34m(self, other)\u001b[0m\n\u001b[0;32m    587\u001b[0m     \u001b[38;5;28;01mif\u001b[39;00m \u001b[38;5;28mself\u001b[39m\u001b[38;5;241m.\u001b[39mshape[\u001b[38;5;241m1\u001b[39m] \u001b[38;5;241m!=\u001b[39m other\u001b[38;5;241m.\u001b[39mshape[\u001b[38;5;241m0\u001b[39m]:\n\u001b[0;32m    588\u001b[0m         \u001b[38;5;28;01mraise\u001b[39;00m \u001b[38;5;167;01mValueError\u001b[39;00m(\u001b[38;5;124m'\u001b[39m\u001b[38;5;124mdimension mismatch\u001b[39m\u001b[38;5;124m'\u001b[39m)\n\u001b[1;32m--> 589\u001b[0m     \u001b[38;5;28;01mreturn\u001b[39;00m \u001b[38;5;28;43mself\u001b[39;49m\u001b[38;5;241;43m.\u001b[39;49m\u001b[43m_mul_sparse_matrix\u001b[49m\u001b[43m(\u001b[49m\u001b[43mother\u001b[49m\u001b[43m)\u001b[49m\n\u001b[0;32m    591\u001b[0m \u001b[38;5;66;03m# If it's a list or whatever, treat it like an array\u001b[39;00m\n\u001b[0;32m    592\u001b[0m other_a \u001b[38;5;241m=\u001b[39m np\u001b[38;5;241m.\u001b[39masanyarray(other)\n",
      "File \u001b[1;32mc:\\Users\\miked\\.virtualenvs\\AverageRatingsImplementation-7JwYyYnJ\\Lib\\site-packages\\scipy\\sparse\\_base.py:651\u001b[0m, in \u001b[0;36m_spbase._mul_sparse_matrix\u001b[1;34m(self, other)\u001b[0m\n\u001b[0;32m    650\u001b[0m \u001b[38;5;28;01mdef\u001b[39;00m \u001b[38;5;21m_mul_sparse_matrix\u001b[39m(\u001b[38;5;28mself\u001b[39m, other):\n\u001b[1;32m--> 651\u001b[0m     \u001b[38;5;28;01mreturn\u001b[39;00m \u001b[38;5;28;43mself\u001b[39;49m\u001b[38;5;241;43m.\u001b[39;49m\u001b[43mtocsr\u001b[49m\u001b[43m(\u001b[49m\u001b[43m)\u001b[49m\u001b[38;5;241m.\u001b[39m_mul_sparse_matrix(other)\n",
      "File \u001b[1;32mc:\\Users\\miked\\.virtualenvs\\AverageRatingsImplementation-7JwYyYnJ\\Lib\\site-packages\\scipy\\sparse\\_coo.py:312\u001b[0m, in \u001b[0;36m_coo_base.tocsr\u001b[1;34m(self, copy)\u001b[0m\n\u001b[0;32m    309\u001b[0m indices \u001b[38;5;241m=\u001b[39m np\u001b[38;5;241m.\u001b[39mempty_like(col, dtype\u001b[38;5;241m=\u001b[39midx_dtype)\n\u001b[0;32m    310\u001b[0m data \u001b[38;5;241m=\u001b[39m np\u001b[38;5;241m.\u001b[39mempty_like(\u001b[38;5;28mself\u001b[39m\u001b[38;5;241m.\u001b[39mdata, dtype\u001b[38;5;241m=\u001b[39mupcast(\u001b[38;5;28mself\u001b[39m\u001b[38;5;241m.\u001b[39mdtype))\n\u001b[1;32m--> 312\u001b[0m \u001b[43mcoo_tocsr\u001b[49m\u001b[43m(\u001b[49m\u001b[43mM\u001b[49m\u001b[43m,\u001b[49m\u001b[43m \u001b[49m\u001b[43mN\u001b[49m\u001b[43m,\u001b[49m\u001b[43m \u001b[49m\u001b[38;5;28;43mself\u001b[39;49m\u001b[38;5;241;43m.\u001b[39;49m\u001b[43mnnz\u001b[49m\u001b[43m,\u001b[49m\u001b[43m \u001b[49m\u001b[43mrow\u001b[49m\u001b[43m,\u001b[49m\u001b[43m \u001b[49m\u001b[43mcol\u001b[49m\u001b[43m,\u001b[49m\u001b[43m \u001b[49m\u001b[38;5;28;43mself\u001b[39;49m\u001b[38;5;241;43m.\u001b[39;49m\u001b[43mdata\u001b[49m\u001b[43m,\u001b[49m\n\u001b[0;32m    313\u001b[0m \u001b[43m          \u001b[49m\u001b[43mindptr\u001b[49m\u001b[43m,\u001b[49m\u001b[43m \u001b[49m\u001b[43mindices\u001b[49m\u001b[43m,\u001b[49m\u001b[43m \u001b[49m\u001b[43mdata\u001b[49m\u001b[43m)\u001b[49m\n\u001b[0;32m    315\u001b[0m x \u001b[38;5;241m=\u001b[39m \u001b[38;5;28mself\u001b[39m\u001b[38;5;241m.\u001b[39m_csr_container((data, indices, indptr), shape\u001b[38;5;241m=\u001b[39m\u001b[38;5;28mself\u001b[39m\u001b[38;5;241m.\u001b[39mshape)\n\u001b[0;32m    316\u001b[0m \u001b[38;5;28;01mif\u001b[39;00m \u001b[38;5;129;01mnot\u001b[39;00m \u001b[38;5;28mself\u001b[39m\u001b[38;5;241m.\u001b[39mhas_canonical_format:\n",
      "\u001b[1;31mKeyboardInterrupt\u001b[0m: "
     ]
    }
   ],
   "source": [
    "\n"
   ]
  },
  {
   "cell_type": "code",
   "execution_count": 99,
   "metadata": {},
   "outputs": [
    {
     "ename": "TypeError",
     "evalue": "iteration over a 0-d array",
     "output_type": "error",
     "traceback": [
      "\u001b[1;31m---------------------------------------------------------------------------\u001b[0m",
      "\u001b[1;31mTypeError\u001b[0m                                 Traceback (most recent call last)",
      "Cell \u001b[1;32mIn[99], line 5\u001b[0m\n\u001b[0;32m      3\u001b[0m ratings \u001b[38;5;241m=\u001b[39m []\n\u001b[0;32m      4\u001b[0m \u001b[38;5;28;01mfor\u001b[39;00m i \u001b[38;5;129;01min\u001b[39;00m \u001b[38;5;28mrange\u001b[39m(\u001b[38;5;241m1\u001b[39m, np\u001b[38;5;241m.\u001b[39mshape(coo_matrix)[\u001b[38;5;241m1\u001b[39m]):\n\u001b[1;32m----> 5\u001b[0m     ratings\u001b[38;5;241m.\u001b[39mappend(\u001b[43mgetColumnAverage\u001b[49m\u001b[43m(\u001b[49m\u001b[43mcoo_matrix\u001b[49m\u001b[43m,\u001b[49m\u001b[43m \u001b[49m\u001b[43mi\u001b[49m\u001b[43m)\u001b[49m)\n\u001b[0;32m      6\u001b[0m ratings\n",
      "Cell \u001b[1;32mIn[94], line 4\u001b[0m, in \u001b[0;36mgetColumnAverage\u001b[1;34m(matrix, column_index)\u001b[0m\n\u001b[0;32m      2\u001b[0m col \u001b[38;5;241m=\u001b[39m matrix\u001b[38;5;241m.\u001b[39mgetcol(column_index)\n\u001b[0;32m      3\u001b[0m non_zero_column \u001b[38;5;241m=\u001b[39m col[col\u001b[38;5;241m.\u001b[39mnonzero()]\n\u001b[1;32m----> 4\u001b[0m \u001b[38;5;28;01mreturn\u001b[39;00m \u001b[43mAverage\u001b[49m\u001b[43m(\u001b[49m\u001b[43mnp\u001b[49m\u001b[38;5;241;43m.\u001b[39;49m\u001b[43msqueeze\u001b[49m\u001b[43m(\u001b[49m\u001b[43mnp\u001b[49m\u001b[38;5;241;43m.\u001b[39;49m\u001b[43masarray\u001b[49m\u001b[43m(\u001b[49m\u001b[43mnon_zero_column\u001b[49m\u001b[43m)\u001b[49m\u001b[43m)\u001b[49m\u001b[43m)\u001b[49m\n",
      "Cell \u001b[1;32mIn[27], line 2\u001b[0m, in \u001b[0;36mAverage\u001b[1;34m(lst)\u001b[0m\n\u001b[0;32m      1\u001b[0m \u001b[38;5;28;01mdef\u001b[39;00m \u001b[38;5;21mAverage\u001b[39m(lst): \n\u001b[1;32m----> 2\u001b[0m     \u001b[38;5;28;01mreturn\u001b[39;00m \u001b[38;5;28msum\u001b[39m(lst) \u001b[38;5;241m/\u001b[39m \u001b[38;5;28mlen\u001b[39m(lst)\n",
      "\u001b[1;31mTypeError\u001b[0m: iteration over a 0-d array"
     ]
    }
   ],
   "source": [
    "import pandas as pd\n",
    "# Calculate the column-wise average of the sparse matrix\n",
    "ratings = []\n",
    "for i in range(1, np.shape(coo_matrix)[1]):\n",
    "    ratings.append(getColumnAverage(coo_matrix, i))\n",
    "ratings\n",
    "\n",
    "    "
   ]
  },
  {
   "cell_type": "code",
   "execution_count": 98,
   "metadata": {},
   "outputs": [
    {
     "data": {
      "text/plain": [
       "[3.893707794587238,\n",
       " 3.2515271586594023,\n",
       " 3.142028126058963,\n",
       " 2.85354736424891,\n",
       " 3.0584343520573674,\n",
       " 3.854908898649748,\n",
       " 3.3636663369601054,\n",
       " 3.1145833333333335,\n",
       " 2.992050660199407,\n",
       " 3.42145763311516,\n",
       " 3.6571705198920315,\n",
       " 2.6245656241646618,\n",
       " 3.333527696793003,\n",
       " 3.4234888364494465,\n",
       " 2.7190217391304348,\n",
       " 3.8237068028689416,\n",
       " 3.948806325713417,\n",
       " 3.3843505768515074,\n",
       " 2.6421677802524126,\n",
       " 2.869921875,\n",
       " 3.5701620505454055,\n",
       " 3.3200173216412256,\n",
       " 3.145691333982473,\n",
       " 3.18758389261745,\n",
       " 3.677304434479322,\n",
       " 3.606708513142409,\n",
       " 3.4039315155358274,\n",
       " 4.03,\n",
       " 3.936724864539434,\n",
       " 3.6367924528301887,\n",
       " 3.244838567977158,\n",
       " 3.9057678412037236,\n",
       " 3.023076923076923,\n",
       " 3.6031917599186163,\n",
       " 3.4792899408284024,\n",
       " 3.91868681658758,\n",
       " 2.993333333333333,\n",
       " 2.870839936608558,\n",
       " 3.4187380861608845,\n",
       " 3.6267252195734003,\n",
       " 3.843413033286451,\n",
       " 3.0495652173913044,\n",
       " 3.4499566724436743,\n",
       " 2.6546241414996707,\n",
       " 3.382907947260191,\n",
       " 3.2634129456559364,\n",
       " 4.0791663372598626,\n",
       " 2.9777505385929723,\n",
       " 3.5197368421052633,\n",
       " 4.284353213163313,\n",
       " 2.607142857142857,\n",
       " 3.532892426548051,\n",
       " 3.6496350364963503,\n",
       " 2.8411316648531013,\n",
       " 3.220329024676851,\n",
       " 1.9153846153846155,\n",
       " 3.320438282647585,\n",
       " 3.9679004101879234,\n",
       " 3.56353591160221,\n",
       " 3.0958892617449663,\n",
       " 3.3160919540229883,\n",
       " 3.715354676022366,\n",
       " 3.083904109589041,\n",
       " 2.81395966029724,\n",
       " 2.37025520051469,\n",
       " 2.1376975169300225,\n",
       " 3.2975460122699385,\n",
       " 3.4301601423487544,\n",
       " 3.5583216456287987,\n",
       " 3.326568919110356,\n",
       " 2.34567387687188,\n",
       " 3.4868532654792195,\n",
       " 3.796035568729159,\n",
       " 3.2880989180834623,\n",
       " 2.429657794676806,\n",
       " 3.010046367851623,\n",
       " 3.4028436018957344,\n",
       " 3.152790079716563,\n",
       " 3.1199367713890536,\n",
       " 3.7495145631067963,\n",
       " 3.2527435982707016,\n",
       " 3.9923513986013988,\n",
       " 3.644320297951583,\n",
       " 3.358156028368794,\n",
       " 3.526833265055305,\n",
       " 3.4766641162968632,\n",
       " 2.349680170575693,\n",
       " 3.107188160676533,\n",
       " 3.1294022617124395,\n",
       " 3.3333333333333335,\n",
       " 2.3333333333333335,\n",
       " 2.8500473036896876,\n",
       " 2.4919938016528924,\n",
       " 3.5279255319148937,\n",
       " 3.077245421955237,\n",
       " 3.7004504504504503,\n",
       " 3.9862332695984706,\n",
       " 3.032258064516129,\n",
       " 3.1010479041916166,\n",
       " 3.2212201591511938,\n",
       " 3.7673501577287065,\n",
       " 2.4106463878326996,\n",
       " 3.2552581261950286,\n",
       " 3.3943981240229286,\n",
       " 3.3332222962469467,\n",
       " 3.436,\n",
       " 3.2168744804655027,\n",
       " 3.0739130434782607,\n",
       " 2.4464285714285716,\n",
       " 4.002272573668559,\n",
       " 4.083479216009336,\n",
       " 3.40623288921336,\n",
       " 3.101010101010101,\n",
       " 3.5891304347826085,\n",
       " 3.5348837209302326,\n",
       " 3.9114285714285715,\n",
       " 3.574430823117338,\n",
       " 2.9854368932038833,\n",
       " 2.0,\n",
       " 2.841549295774648,\n",
       " 3.74869109947644,\n",
       " 2.8593924191750277,\n",
       " 3.9913693901035674,\n",
       " 3.4966442953020134,\n",
       " 3.744196843082637,\n",
       " 2.318660647103085,\n",
       " 3.1097560975609757,\n",
       " 2.733739837398374,\n",
       " 3.13953488372093,\n",
       " 3.4859154929577465,\n",
       " 3.3106508875739644,\n",
       " 2.777922077922078,\n",
       " 3.2261904761904763,\n",
       " 3.4516129032258065,\n",
       " 3.0018543492919756,\n",
       " 3.6277777777777778,\n",
       " 3.254854368932039,\n",
       " 3.227642276422764,\n",
       " 3.111111111111111,\n",
       " 3.287283110037338,\n",
       " 3.5101652454593633,\n",
       " 3.0135135135135136,\n",
       " 1.9285714285714286,\n",
       " 3.4649743714913352,\n",
       " 3.275515786183182,\n",
       " 2.9029038112522687,\n",
       " 3.5833728090952155,\n",
       " 2.908955223880597,\n",
       " 3.68669314796425,\n",
       " 3.87355561527172,\n",
       " 3.53139284174213,\n",
       " 3.0869905956112853,\n",
       " 2.8716600752387382,\n",
       " 3.786777431637245,\n",
       " 3.408390410958904,\n",
       " 3.5088757396449703,\n",
       " 2.7942023026315788,\n",
       " 2.921479069028517,\n",
       " 3.4178361249434133,\n",
       " 2.6022161264708004,\n",
       " 3.739861235452104,\n",
       " 4.008077401029647,\n",
       " 3.4392585818795722,\n",
       " 3.4522562951882323,\n",
       " 3.506566659749192,\n",
       " 2.84407027818448,\n",
       " 3.849673202614379,\n",
       " 3.081881687151826,\n",
       " 2.269546027742749,\n",
       " 3.215710400207227,\n",
       " 3.599845797995374,\n",
       " 2.7515630141493914,\n",
       " 2.555359804851606,\n",
       " 2.449275362318841,\n",
       " 3.507799325463744,\n",
       " 3.8490694507489787,\n",
       " 2.8892508143322475,\n",
       " 3.3929359823399556,\n",
       " 2.7305630026809653,\n",
       " 3.5757829309108295,\n",
       " 1.9535250098463963,\n",
       " 3.0754716981132075,\n",
       " 3.3623063683304646,\n",
       " 3.0670926517571884,\n",
       " 3.102854287948562,\n",
       " 2.8772434974565697,\n",
       " 3.4314285714285715,\n",
       " 3.3334728033472802,\n",
       " 2.991776315789474,\n",
       " 3.578174186778594,\n",
       " 2.684565916398714,\n",
       " 3.037974683544304,\n",
       " 2.2478297395687483,\n",
       " 3.8442938267081885,\n",
       " 3.077944179714091,\n",
       " 2.8360270915108137,\n",
       " 3.0555555555555554,\n",
       " 3.417996761508212,\n",
       " 3.77007299270073,\n",
       " 2.8222222222222224,\n",
       " 3.001457725947522,\n",
       " 3.0543478260869565,\n",
       " 3.1462450592885376,\n",
       " 2.926604922608475,\n",
       " 3.5,\n",
       " 3.448717948717949,\n",
       " 3.3732562774013553,\n",
       " 2.8652335902399826,\n",
       " 2.8105726872246697,\n",
       " 2.8870246085011186,\n",
       " 3.584600760456274,\n",
       " 2.5657276995305165,\n",
       " 4.01654306902453,\n",
       " 4.026966292134832,\n",
       " 3.914843512610149,\n",
       " 3.2408267020335986,\n",
       " 2.728191489361702,\n",
       " 3.285843685300207,\n",
       " 3.6061120543293717,\n",
       " 2.4482758620689653,\n",
       " 1.9166666666666667,\n",
       " 3.5284704131001114,\n",
       " 3.847214137214137,\n",
       " 3.4449993597131514,\n",
       " 3.2840320910973086,\n",
       " 2.7837837837837838,\n",
       " 3.0618285987109095,\n",
       " 2.69151376146789,\n",
       " 3.5625,\n",
       " 3.588200326943082,\n",
       " 2.964968752944132,\n",
       " 4.027935943060498,\n",
       " 3.533083645443196,\n",
       " 2.6703929539295395,\n",
       " 3.664388396868181,\n",
       " 3.3150479880250066,\n",
       " 3.2214038128249567,\n",
       " 3.1657963446475197,\n",
       " 3.08521377672209,\n",
       " 2.910783055198973,\n",
       " 3.0261194029850746,\n",
       " 3.3855,\n",
       " 2.5377358490566038,\n",
       " 2.375451263537906,\n",
       " 2.9686192468619246,\n",
       " 4.028236985316767,\n",
       " 3.8224384098544233,\n",
       " 3.0080251221214236,\n",
       " 3.675253192426244,\n",
       " 3.0751633986928106,\n",
       " 3.057184750733138,\n",
       " 3.215840517241379,\n",
       " 3.508920477209269,\n",
       " 2.9111498257839723,\n",
       " 2.277948717948718,\n",
       " 2.7017581020970134,\n",
       " 3.4075381140598533,\n",
       " 2.6281328320802007,\n",
       " 3.060162601626016,\n",
       " 4.120188599618726,\n",
       " 3.627589063794532,\n",
       " 3.7653443113772456,\n",
       " 3.745923913043478,\n",
       " 3.374233128834356,\n",
       " 3.921667748817364,\n",
       " 3.5003490069166827,\n",
       " 2.886744743146127,\n",
       " 3.306167400881057,\n",
       " 3.4518181818181817,\n",
       " 3.170042194092827,\n",
       " 3.3343585237258346,\n",
       " 3.7400504484304933,\n",
       " 3.132062978222484,\n",
       " 2.8387665198237886,\n",
       " 2.7166089965397924,\n",
       " 2.978864734299517,\n",
       " 3.4048868672731514,\n",
       " 3.021194605009634,\n",
       " 3.6973995271867612,\n",
       " 3.7172008547008546,\n",
       " 3.661371237458194,\n",
       " 3.409440492213036,\n",
       " 3.0472972972972974,\n",
       " 2.8529411764705883,\n",
       " 2.26875,\n",
       " 2.066326530612245,\n",
       " 3.2524590163934426,\n",
       " 3.2577711853476075,\n",
       " 3.3515018562267973,\n",
       " 3.9737263270205387]"
      ]
     },
     "execution_count": 98,
     "metadata": {},
     "output_type": "execute_result"
    }
   ],
   "source": [
    "ratings"
   ]
  },
  {
   "cell_type": "code",
   "execution_count": 12,
   "metadata": {},
   "outputs": [
    {
     "data": {
      "text/plain": [
       "array([[0., 0., 0., ..., 0., 0., 0.]])"
      ]
     },
     "execution_count": 12,
     "metadata": {},
     "output_type": "execute_result"
    }
   ],
   "source": [
    "first_row = sparse_matrix.getrow(0)\n",
    "first_row.toarray()"
   ]
  },
  {
   "cell_type": "code",
   "execution_count": 13,
   "metadata": {},
   "outputs": [
    {
     "name": "stderr",
     "output_type": "stream",
     "text": [
      "c:\\Users\\miked\\.virtualenvs\\AverageRatingsImplementation-7JwYyYnJ\\Lib\\site-packages\\scipy\\sparse\\_index.py:145: SparseEfficiencyWarning: Changing the sparsity structure of a csr_matrix is expensive. lil_matrix is more efficient.\n",
      "  self._set_arrayXarray(i, j, x)\n"
     ]
    },
    {
     "data": {
      "text/plain": [
       "array([[1.53806401e-05, 1.37284210e+00, 4.84662426e-01, ...,\n",
       "        1.32581117e-03, 1.84567681e-05, 1.01512225e-04]])"
      ]
     },
     "execution_count": 13,
     "metadata": {},
     "output_type": "execute_result"
    }
   ],
   "source": [
    "for i in range(first_row.shape[1]):\n",
    "    # Check if the column is null\n",
    "    if first_row[:, i].nnz == 0:\n",
    "        # Replace the null column with a value from weights\n",
    "        first_row[:, i] = avg_ratings_df[i].iloc[0]\n",
    "first_row.toarray()"
   ]
  },
  {
   "cell_type": "code",
   "execution_count": null,
   "metadata": {},
   "outputs": [],
   "source": []
  },
  {
   "cell_type": "code",
   "execution_count": 21,
   "metadata": {},
   "outputs": [],
   "source": [
    "from sklearn.base import BaseEstimator\n",
    "\n",
    "class AverageRatingModel(BaseEstimator):\n",
    "    avg_ratings_df = None  \n",
    "        \n",
    "    def fit(self, training_ratings_matrix: csc_matrix):\n",
    "        # Calculate the column-wise average of the training_ratings_matrix\n",
    "        averages = sparse_matrix.nonzero().mean(axis=0) #TODO stop including 0s in averages\n",
    "        self.avg_ratings_df = pd.DataFrame(averages[0])\n",
    "        \n",
    "    def predict(self, user_ratings_matrix: csc_matrix):\n",
    "        for i in range(first_row.shape[1]):\n",
    "            # Check if the column is null\n",
    "            if first_row[:, i].nnz == 0:\n",
    "                # Replace the null column with a value from weights\n",
    "                first_row[:, i] = self.avg_ratings_df[i].iloc[0]\n",
    "        \n",
    "        # Return the modified user_ratings_matrix\n",
    "        return user_ratings_matrix\n"
   ]
  },
  {
   "cell_type": "code",
   "execution_count": null,
   "metadata": {},
   "outputs": [],
   "source": []
  },
  {
   "cell_type": "markdown",
   "metadata": {},
   "source": [
    "<h1> Run Training </h1>"
   ]
  },
  {
   "cell_type": "code",
   "execution_count": 22,
   "metadata": {},
   "outputs": [],
   "source": [
    "from sklearn.model_selection import GroupShuffleSplit\n",
    "\n",
    "# Define the groups for the split based on the value of the first column\n",
    "groups = sparse_matrix[:, 0].toarray().flatten()\n",
    "\n",
    "# Create an instance of GroupShuffleSplit\n",
    "splitter = GroupShuffleSplit(n_splits=1, test_size=0.2)\n",
    "\n",
    "train_dataset,test_dataset = next(splitter.split(X=sparse_matrix[:,1:], groups=groups))\n",
    "\n"
   ]
  },
  {
   "cell_type": "code",
   "execution_count": 23,
   "metadata": {},
   "outputs": [
    {
     "ename": "AttributeError",
     "evalue": "'tuple' object has no attribute 'mean'",
     "output_type": "error",
     "traceback": [
      "\u001b[1;31m---------------------------------------------------------------------------\u001b[0m",
      "\u001b[1;31mAttributeError\u001b[0m                            Traceback (most recent call last)",
      "Cell \u001b[1;32mIn[23], line 3\u001b[0m\n\u001b[0;32m      1\u001b[0m avg_rat_model \u001b[38;5;241m=\u001b[39m AverageRatingModel()\n\u001b[1;32m----> 3\u001b[0m \u001b[43mavg_rat_model\u001b[49m\u001b[38;5;241;43m.\u001b[39;49m\u001b[43mfit\u001b[49m\u001b[43m(\u001b[49m\u001b[43mtrain_dataset\u001b[49m\u001b[43m)\u001b[49m\n",
      "Cell \u001b[1;32mIn[21], line 8\u001b[0m, in \u001b[0;36mAverageRatingModel.fit\u001b[1;34m(self, training_ratings_matrix)\u001b[0m\n\u001b[0;32m      6\u001b[0m \u001b[38;5;28;01mdef\u001b[39;00m \u001b[38;5;21mfit\u001b[39m(\u001b[38;5;28mself\u001b[39m, training_ratings_matrix: csc_matrix):\n\u001b[0;32m      7\u001b[0m     \u001b[38;5;66;03m# Calculate the column-wise average of the training_ratings_matrix\u001b[39;00m\n\u001b[1;32m----> 8\u001b[0m     averages \u001b[38;5;241m=\u001b[39m \u001b[43msparse_matrix\u001b[49m\u001b[38;5;241;43m.\u001b[39;49m\u001b[43mnonzero\u001b[49m\u001b[43m(\u001b[49m\u001b[43m)\u001b[49m\u001b[38;5;241;43m.\u001b[39;49m\u001b[43mmean\u001b[49m(axis\u001b[38;5;241m=\u001b[39m\u001b[38;5;241m0\u001b[39m) \u001b[38;5;66;03m#TODO stop including 0s in averages\u001b[39;00m\n\u001b[0;32m      9\u001b[0m     \u001b[38;5;28mself\u001b[39m\u001b[38;5;241m.\u001b[39mavg_ratings_df \u001b[38;5;241m=\u001b[39m pd\u001b[38;5;241m.\u001b[39mDataFrame(averages[\u001b[38;5;241m0\u001b[39m])\n",
      "\u001b[1;31mAttributeError\u001b[0m: 'tuple' object has no attribute 'mean'"
     ]
    }
   ],
   "source": [
    "avg_rat_model = AverageRatingModel()\n",
    "\n",
    "avg_rat_model.fit(train_dataset)"
   ]
  },
  {
   "cell_type": "markdown",
   "metadata": {},
   "source": [
    "<h1> Evaluate </h1>"
   ]
  },
  {
   "cell_type": "code",
   "execution_count": 17,
   "metadata": {},
   "outputs": [],
   "source": [
    "# predit the unseen movies agaisnt the actual ratings\n",
    "groups = sparse_matrix[:, 0].toarray().flatten()\n",
    "\n",
    "# Create an instance of GroupShuffleSplit\n",
    "splitter = GroupShuffleSplit(n_splits=1, test_size=0.2)\n",
    "\n",
    "train_dataset,test_dataset = next(splitter.split(X=sparse_matrix[:,1:], groups=groups))\n",
    "\n",
    "\n",
    "#Root mean-squared error (RMSE)\n",
    "#Boxplot of true vs predicted ratings\n",
    "#Pearson's Correlation Coefficient (R2)\n",
    "#Fraction of user-movie pairs with non-zero predicted ratings\n",
    "#Fraction of user-movie ratings with a predicted values (recall)\n",
    "#RMSE is appropriate if we want to exactly the predict the ratings of the users.  R2 is useful if we don't care about the ranges of the ratings, just that the predicted ratings rank items in a manner consistent with the user-provided ratings.  The MovieLens ratings are in increments of 0.5.  This makes it easy to visualize the relationships between the user-provided and predicted ratings using a boxplot (user-provided ratings on the X axis, predicted ratings on the Y axis).\n"
   ]
  },
  {
   "cell_type": "code",
   "execution_count": 18,
   "metadata": {},
   "outputs": [],
   "source": [
    "predictions = avg_rat_model.predict(test_dataset)"
   ]
  },
  {
   "cell_type": "code",
   "execution_count": 19,
   "metadata": {},
   "outputs": [
    {
     "data": {
      "text/plain": [
       "array([16955], dtype=int64)"
      ]
     },
     "execution_count": 19,
     "metadata": {},
     "output_type": "execute_result"
    }
   ],
   "source": [
    "predictions"
   ]
  }
 ],
 "metadata": {
  "kernelspec": {
   "display_name": "AverageRatingsImplementation-7JwYyYnJ",
   "language": "python",
   "name": "python3"
  },
  "language_info": {
   "codemirror_mode": {
    "name": "ipython",
    "version": 3
   },
   "file_extension": ".py",
   "mimetype": "text/x-python",
   "name": "python",
   "nbconvert_exporter": "python",
   "pygments_lexer": "ipython3",
   "version": "3.11.5"
  }
 },
 "nbformat": 4,
 "nbformat_minor": 2
}
