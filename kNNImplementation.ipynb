{
 "cells": [
  {
   "cell_type": "markdown",
   "metadata": {},
   "source": [
    "<h1>kNN Implementation </h1>\n",
    "<h4> Mike Altschwager </h4>\n",
    "Outlines a base scikit learn pipeline for using k Nearest Neighbors ratings to determine recommendations for a user. \n",
    "\n",
    "Lessons learned:\n",
    "\n",
    "*"
   ]
  },
  {
   "cell_type": "code",
   "execution_count": 1,
   "metadata": {},
   "outputs": [
    {
     "name": "stderr",
     "output_type": "stream",
     "text": [
      "C:\\Users\\miked\\AppData\\Local\\Temp\\ipykernel_67344\\3355079304.py:1: DeprecationWarning: \n",
      "Pyarrow will become a required dependency of pandas in the next major release of pandas (pandas 3.0),\n",
      "(to allow more performant data types, such as the Arrow string type, and better interoperability with other libraries)\n",
      "but was not found to be installed on your system.\n",
      "If this would cause problems for you,\n",
      "please provide us feedback at https://github.com/pandas-dev/pandas/issues/54466\n",
      "        \n",
      "  import pandas as pd\n"
     ]
    }
   ],
   "source": [
    "import pandas as pd\n",
    "from scipy.sparse import csr_matrix, csc_matrix\n",
    "import numpy as np"
   ]
  },
  {
   "cell_type": "markdown",
   "metadata": {},
   "source": [
    "<h1> Load Data </h1>"
   ]
  },
  {
   "cell_type": "code",
   "execution_count": 2,
   "metadata": {},
   "outputs": [],
   "source": [
    "movies_df = pd.read_csv('data/movies.csv')\n",
    "ratings_df = pd.read_csv('data/ratings.csv')"
   ]
  },
  {
   "cell_type": "code",
   "execution_count": 3,
   "metadata": {},
   "outputs": [
    {
     "data": {
      "text/html": [
       "<div>\n",
       "<style scoped>\n",
       "    .dataframe tbody tr th:only-of-type {\n",
       "        vertical-align: middle;\n",
       "    }\n",
       "\n",
       "    .dataframe tbody tr th {\n",
       "        vertical-align: top;\n",
       "    }\n",
       "\n",
       "    .dataframe thead th {\n",
       "        text-align: right;\n",
       "    }\n",
       "</style>\n",
       "<table border=\"1\" class=\"dataframe\">\n",
       "  <thead>\n",
       "    <tr style=\"text-align: right;\">\n",
       "      <th></th>\n",
       "      <th>movieId</th>\n",
       "      <th>title</th>\n",
       "      <th>genres</th>\n",
       "    </tr>\n",
       "  </thead>\n",
       "  <tbody>\n",
       "    <tr>\n",
       "      <th>0</th>\n",
       "      <td>1</td>\n",
       "      <td>Toy Story (1995)</td>\n",
       "      <td>Adventure|Animation|Children|Comedy|Fantasy</td>\n",
       "    </tr>\n",
       "    <tr>\n",
       "      <th>1</th>\n",
       "      <td>2</td>\n",
       "      <td>Jumanji (1995)</td>\n",
       "      <td>Adventure|Children|Fantasy</td>\n",
       "    </tr>\n",
       "    <tr>\n",
       "      <th>2</th>\n",
       "      <td>3</td>\n",
       "      <td>Grumpier Old Men (1995)</td>\n",
       "      <td>Comedy|Romance</td>\n",
       "    </tr>\n",
       "    <tr>\n",
       "      <th>3</th>\n",
       "      <td>4</td>\n",
       "      <td>Waiting to Exhale (1995)</td>\n",
       "      <td>Comedy|Drama|Romance</td>\n",
       "    </tr>\n",
       "    <tr>\n",
       "      <th>4</th>\n",
       "      <td>5</td>\n",
       "      <td>Father of the Bride Part II (1995)</td>\n",
       "      <td>Comedy</td>\n",
       "    </tr>\n",
       "  </tbody>\n",
       "</table>\n",
       "</div>"
      ],
      "text/plain": [
       "   movieId                               title  \\\n",
       "0        1                    Toy Story (1995)   \n",
       "1        2                      Jumanji (1995)   \n",
       "2        3             Grumpier Old Men (1995)   \n",
       "3        4            Waiting to Exhale (1995)   \n",
       "4        5  Father of the Bride Part II (1995)   \n",
       "\n",
       "                                        genres  \n",
       "0  Adventure|Animation|Children|Comedy|Fantasy  \n",
       "1                   Adventure|Children|Fantasy  \n",
       "2                               Comedy|Romance  \n",
       "3                         Comedy|Drama|Romance  \n",
       "4                                       Comedy  "
      ]
     },
     "execution_count": 3,
     "metadata": {},
     "output_type": "execute_result"
    }
   ],
   "source": [
    "original_movie_ids = set(movies_df[\"movieId\"])\n",
    "movie_id_map = {original : new for new, original in enumerate(original_movie_ids) }\n",
    "movies_df[\"movieId\"] = movies_df[\"movieId\"].map(movie_id_map)\n",
    "movies_df.head()"
   ]
  },
  {
   "cell_type": "code",
   "execution_count": 4,
   "metadata": {},
   "outputs": [
    {
     "data": {
      "text/html": [
       "<div>\n",
       "<style scoped>\n",
       "    .dataframe tbody tr th:only-of-type {\n",
       "        vertical-align: middle;\n",
       "    }\n",
       "\n",
       "    .dataframe tbody tr th {\n",
       "        vertical-align: top;\n",
       "    }\n",
       "\n",
       "    .dataframe thead th {\n",
       "        text-align: right;\n",
       "    }\n",
       "</style>\n",
       "<table border=\"1\" class=\"dataframe\">\n",
       "  <thead>\n",
       "    <tr style=\"text-align: right;\">\n",
       "      <th></th>\n",
       "      <th>userId</th>\n",
       "      <th>movieId</th>\n",
       "      <th>rating</th>\n",
       "      <th>timestamp</th>\n",
       "    </tr>\n",
       "  </thead>\n",
       "  <tbody>\n",
       "    <tr>\n",
       "      <th>0</th>\n",
       "      <td>1</td>\n",
       "      <td>296</td>\n",
       "      <td>5.0</td>\n",
       "      <td>1147880044</td>\n",
       "    </tr>\n",
       "    <tr>\n",
       "      <th>1</th>\n",
       "      <td>1</td>\n",
       "      <td>306</td>\n",
       "      <td>3.5</td>\n",
       "      <td>1147868817</td>\n",
       "    </tr>\n",
       "    <tr>\n",
       "      <th>2</th>\n",
       "      <td>1</td>\n",
       "      <td>307</td>\n",
       "      <td>5.0</td>\n",
       "      <td>1147868828</td>\n",
       "    </tr>\n",
       "    <tr>\n",
       "      <th>3</th>\n",
       "      <td>1</td>\n",
       "      <td>665</td>\n",
       "      <td>5.0</td>\n",
       "      <td>1147878820</td>\n",
       "    </tr>\n",
       "    <tr>\n",
       "      <th>4</th>\n",
       "      <td>1</td>\n",
       "      <td>899</td>\n",
       "      <td>3.5</td>\n",
       "      <td>1147868510</td>\n",
       "    </tr>\n",
       "  </tbody>\n",
       "</table>\n",
       "</div>"
      ],
      "text/plain": [
       "   userId  movieId  rating   timestamp\n",
       "0       1      296     5.0  1147880044\n",
       "1       1      306     3.5  1147868817\n",
       "2       1      307     5.0  1147868828\n",
       "3       1      665     5.0  1147878820\n",
       "4       1      899     3.5  1147868510"
      ]
     },
     "execution_count": 4,
     "metadata": {},
     "output_type": "execute_result"
    }
   ],
   "source": [
    "original_movie_ids = set(ratings_df[\"movieId\"])\n",
    "movie_id_map = {original : new for new, original in enumerate(original_movie_ids) }\n",
    "ratings_df[\"movieId\"] = ratings_df[\"movieId\"].map(movie_id_map)\n",
    "ratings_df.head()"
   ]
  },
  {
   "cell_type": "markdown",
   "metadata": {},
   "source": [
    "<h1> Build Raiding Matrix </h1>"
   ]
  },
  {
   "cell_type": "code",
   "execution_count": 5,
   "metadata": {},
   "outputs": [],
   "source": [
    "\n",
    "\n",
    "# Get the unique user IDs and movie IDs\n",
    "user_ids = ratings_df['userId'].unique()\n",
    "movie_ids = ratings_df['movieId'].unique()\n",
    "\n",
    "# Create a dictionary to map movie IDs to column indices\n",
    "movie_id_map = {movie_id: i for i, movie_id in enumerate(movie_ids)}"
   ]
  },
  {
   "cell_type": "code",
   "execution_count": 6,
   "metadata": {},
   "outputs": [
    {
     "data": {
      "text/plain": [
       "59047"
      ]
     },
     "execution_count": 6,
     "metadata": {},
     "output_type": "execute_result"
    }
   ],
   "source": [
    "len(movie_ids)"
   ]
  },
  {
   "cell_type": "code",
   "execution_count": 7,
   "metadata": {},
   "outputs": [],
   "source": [
    "\n",
    "# Initialize lists to store the row indices, column indices, and ratings\n",
    "row_indices = []\n",
    "col_indices = []\n",
    "ratings = []\n",
    "\n",
    "# Iterate over the ratings dataframe\n",
    "for _, row in ratings_df.iterrows():\n",
    "    row_indices.append(int(row['userId']))\n",
    "    col_indices.append(int(row['movieId']))\n",
    "    ratings.append(row['rating'])"
   ]
  },
  {
   "cell_type": "code",
   "execution_count": 8,
   "metadata": {},
   "outputs": [
    {
     "data": {
      "text/plain": [
       "(162542, 59047)"
      ]
     },
     "execution_count": 8,
     "metadata": {},
     "output_type": "execute_result"
    }
   ],
   "source": [
    "# Create the sparse spatial matrix\n",
    "sparse_matrix = csr_matrix((ratings, (row_indices, col_indices)))\n",
    "sparse_matrix.shape"
   ]
  },
  {
   "cell_type": "markdown",
   "metadata": {},
   "source": [
    "<h1> Define training function </h1>"
   ]
  },
  {
   "cell_type": "code",
   "execution_count": 237,
   "metadata": {},
   "outputs": [],
   "source": [
    "from scipy import sparse\n",
    "from sklearn.base import BaseEstimator\n",
    "from sklearn.neighbors import NearestNeighbors\n",
    "from scipy.sparse import vstack\n",
    "\n",
    "class KNNAverageRatingModel(BaseEstimator): \n",
    "    def GetAvgRatings(self, knn_user_ratings_matrix: csr_matrix):\n",
    "        # Calculate the column-wise average of the sparse matrix\n",
    "        averages = knn_user_ratings_matrix.sum(0) / knn_user_ratings_matrix.getnnz(0)\n",
    "        return averages[0]\n",
    "    \n",
    "    def fit(self, training_ratings_matrix: csr_matrix, k, metric='cosine'):\n",
    "        self.training_ratings_matrix = training_ratings_matrix # Store the training ratings matrix so we can grab the nearest neighbors later\n",
    "        self.nn = NearestNeighbors(n_neighbors=k, metric=metric)\n",
    "        self.nn.fit(training_ratings_matrix)\n",
    "        \n",
    "    def predict(self, user_ratings_matrix: csr_matrix):  \n",
    "        # Create a matrix of avg_ratings with duplicate rows\n",
    "        neighbors = self.nn.kneighbors(user_ratings_matrix)[1] # Get the indices of the nearest neighbors\n",
    "        \n",
    "        avg_ratings_matrix = []\n",
    "        for neighbor in range(len(neighbors)):\n",
    "            neighbors_rows = []\n",
    "            for row in range(len(neighbors[neighbor])):\n",
    "                # perform these are dense arrays since concatting sparse matrix seems weird\n",
    "                if len(neighbors_rows) == 0:\n",
    "                    neighbors_rows = self.training_ratings_matrix.getrow(row).toarray()\n",
    "                else:\n",
    "                    neighbors_rows = np.concatenate((neighbors_rows, self.training_ratings_matrix.getrow(row).toarray()))\n",
    "            if len(avg_ratings_matrix) == 0:\n",
    "                avg_ratings_matrix = self.GetAvgRatings(csr_matrix(neighbors_rows))\n",
    "            else:\n",
    "                avg_ratings_matrix = np.concatenate([avg_ratings_matrix, self.GetAvgRatings(csr_matrix(neighbors_rows))])\n",
    "        # Return the avg_ratings_matrix\n",
    "        return avg_ratings_matrix   "
   ]
  },
  {
   "cell_type": "code",
   "execution_count": 238,
   "metadata": {},
   "outputs": [
    {
     "name": "stderr",
     "output_type": "stream",
     "text": [
      "C:\\Users\\miked\\AppData\\Local\\Temp\\ipykernel_67344\\1018482607.py:8: RuntimeWarning: invalid value encountered in divide\n",
      "  averages1 = matrix.sum(0) / matrix.getnnz(0)\n",
      "C:\\Users\\miked\\AppData\\Local\\Temp\\ipykernel_67344\\1018482607.py:9: RuntimeWarning: invalid value encountered in divide\n",
      "  averages2 = matrix.sum(0) / matrix.getnnz(0)\n"
     ]
    }
   ],
   "source": [
    "\n",
    "\n",
    "rows = []\n",
    "avg_ratings_matrix = []\n",
    "\n",
    "rows.append(sparse_matrix.getrow(1))\n",
    "rows.append(sparse_matrix.getrow(2))\n",
    "\n",
    "matrix = vstack(rows)\n",
    "averages1 = matrix.sum(0) / matrix.getnnz(0)\n",
    "averages2 = matrix.sum(0) / matrix.getnnz(0)\n",
    "\n"
   ]
  },
  {
   "cell_type": "code",
   "execution_count": 239,
   "metadata": {},
   "outputs": [
    {
     "data": {
      "text/plain": [
       "matrix([[nan, 3.5, nan, ..., nan, nan, nan],\n",
       "        [nan, 3.5, nan, ..., nan, nan, nan]])"
      ]
     },
     "execution_count": 239,
     "metadata": {},
     "output_type": "execute_result"
    }
   ],
   "source": [
    "\n",
    "np.concatenate((averages1, averages2))"
   ]
  },
  {
   "cell_type": "code",
   "execution_count": 240,
   "metadata": {},
   "outputs": [
    {
     "name": "stderr",
     "output_type": "stream",
     "text": [
      "C:\\Users\\miked\\AppData\\Local\\Temp\\ipykernel_67344\\3297250023.py:5: RuntimeWarning: invalid value encountered in divide\n",
      "  averages = matrix.sum(0) / matrix.getnnz(0)\n"
     ]
    }
   ],
   "source": [
    "\n",
    "\n",
    "rows.append(sparse_matrix.getrow(3))\n",
    "rows.append(sparse_matrix.getrow(4))\n",
    "\n",
    "matrix = vstack(rows)\n",
    "averages = matrix.sum(0) / matrix.getnnz(0)\n",
    "avg_ratings_matrix.append(averages[0])\n",
    "\n",
    "#final_matrix = vstack(avg_ratings_matrix)\n",
    "#final_matrix"
   ]
  },
  {
   "cell_type": "markdown",
   "metadata": {},
   "source": [
    "<h1> Run Training </h1>"
   ]
  },
  {
   "cell_type": "code",
   "execution_count": 241,
   "metadata": {},
   "outputs": [],
   "source": [
    "from sklearn.model_selection import train_test_split\n",
    "\n",
    "train_dataset, test_dataset = train_test_split(sparse_matrix, test_size=0.2, train_size=0.8)\n"
   ]
  },
  {
   "cell_type": "code",
   "execution_count": 242,
   "metadata": {},
   "outputs": [],
   "source": [
    "avg_rat_model = KNNAverageRatingModel()\n",
    "\n",
    "avg_rat_model.fit(train_dataset, 5, 'cosine')"
   ]
  },
  {
   "cell_type": "markdown",
   "metadata": {},
   "source": [
    "<h1> Evaluate </h1>"
   ]
  },
  {
   "cell_type": "code",
   "execution_count": 243,
   "metadata": {},
   "outputs": [],
   "source": [
    "import numpy as np\n",
    "\n",
    "# Initialize empty lists to store the row indices, column indices, and values\n",
    "row_indices_80 = []\n",
    "col_indices_80 = []\n",
    "values_80 = []\n",
    "\n",
    "row_indices_20 = []\n",
    "col_indices_20 = []\n",
    "values_20 = []\n",
    "\n",
    "# Iterate over each row in test_dataset\n",
    "for row_idx in range(test_dataset.shape[0]):\n",
    "    # Get the non-zero indices and values for the current row\n",
    "    non_zero_indices = test_dataset[row_idx].nonzero()[1]\n",
    "    non_zero_values = test_dataset[row_idx].data\n",
    "    \n",
    "    # Calculate the number of non-zero values to include in the 80% matrix\n",
    "    num_values_80 = int(len(non_zero_values) * 0.8)\n",
    "    \n",
    "    # Split the non-zero indices and values into 80% and 20% portions\n",
    "    indices_80 = np.random.choice(non_zero_indices, size=num_values_80, replace=False)\n",
    "    indices_20 = np.setdiff1d(non_zero_indices, indices_80)\n",
    "    \n",
    "    values_80.extend(non_zero_values[np.isin(non_zero_indices, indices_80)])\n",
    "    values_20.extend(non_zero_values[np.isin(non_zero_indices, indices_20)])\n",
    "    \n",
    "    row_indices_80.extend([row_idx] * len(indices_80))\n",
    "    row_indices_20.extend([row_idx] * len(indices_20))\n",
    "    \n",
    "    col_indices_80.extend(indices_80)\n",
    "    col_indices_20.extend(indices_20)\n",
    "\n",
    "# Create the 80% and 20% csc_matrix objects\n",
    "input_ratings = csr_matrix((values_80, (row_indices_80, col_indices_80)))\n",
    "test_ratings = csr_matrix((values_20, (row_indices_20, col_indices_20)))"
   ]
  },
  {
   "cell_type": "code",
   "execution_count": 244,
   "metadata": {},
   "outputs": [],
   "source": [
    "#Need to resize the input_ratings and test_ratings to match the shape of the original test_dataset to fix the columns dropped for having no avg rating (due to no ratings existing period)\n",
    "input_ratings.resize(test_dataset.shape)\n",
    "test_ratings.resize(test_dataset.shape)"
   ]
  },
  {
   "cell_type": "code",
   "execution_count": 245,
   "metadata": {},
   "outputs": [],
   "source": [
    "#load the ratings back into an array in order to compare them\n",
    "def compare_ratings(predictions: csr_matrix, test_ratings: csr_matrix):\n",
    "    test_ratings_array = []\n",
    "    predictions_array = []\n",
    "    \n",
    "    non_zero_indices = test_ratings.nonzero()\n",
    "    for i in non_zero_indices[0]:\n",
    "        for j in non_zero_indices[1]:\n",
    "            test_ratings_array.append(test_ratings[i,j])\n",
    "            predictions_array.append(predictions[i,j])\n",
    "    return test_ratings_array, predictions_array\n"
   ]
  },
  {
   "cell_type": "code",
   "execution_count": 246,
   "metadata": {},
   "outputs": [
    {
     "name": "stderr",
     "output_type": "stream",
     "text": [
      "C:\\Users\\miked\\AppData\\Local\\Temp\\ipykernel_67344\\2766524232.py:9: RuntimeWarning: invalid value encountered in divide\n",
      "  averages = knn_user_ratings_matrix.sum(0) / knn_user_ratings_matrix.getnnz(0)\n"
     ]
    },
    {
     "name": "stdout",
     "output_type": "stream",
     "text": [
      "preds:  [[nan  4. nan ... nan nan nan]\n",
      " [nan  4. nan ... nan nan nan]\n",
      " [nan  4. nan ... nan nan nan]\n",
      " ...\n",
      " [nan  4. nan ... nan nan nan]\n",
      " [nan  4. nan ... nan nan nan]\n",
      " [nan  4. nan ... nan nan nan]]\n"
     ]
    }
   ],
   "source": [
    "from numpy import shape\n",
    "\n",
    "\n",
    "test_ratings_array = []\n",
    "predictions_array = []\n",
    "batch_size = 10 #batch size of 1 ended up being significantly faster, scaling exponentially \n",
    "\n",
    "for i in range(0, input_ratings.shape[0], batch_size):\n",
    "    batch_input_og = input_ratings[i:i+batch_size]\n",
    "    batch_predictions = avg_rat_model.predict(batch_input_og)\n",
    "    print('preds: ', batch_predictions)\n",
    "    batch_test_ratings = test_ratings[i:i+batch_size]\n",
    "    tr, pred = compare_ratings(batch_predictions, batch_test_ratings)\n",
    "    test_ratings_array.extend(tr)\n",
    "    predictions_array.extend(pred)\n",
    "    break #this is just to short circuit the loop for testing purposes"
   ]
  },
  {
   "cell_type": "code",
   "execution_count": 247,
   "metadata": {},
   "outputs": [
    {
     "name": "stdout",
     "output_type": "stream",
     "text": [
      "False\n"
     ]
    }
   ],
   "source": [
    "import numpy as np\n",
    "\n",
    "# Replace NaNs that came from dividing by 0 in the fit with 0s, probabbly could do this further up stream, but figured this made the predict loop faster\n",
    "predictions_array = np.nan_to_num(predictions_array)\n",
    "contains_nan = np.isnan(predictions_array).any()\n",
    "print(contains_nan)\n",
    "\n"
   ]
  },
  {
   "cell_type": "code",
   "execution_count": 248,
   "metadata": {},
   "outputs": [
    {
     "data": {
      "image/png": "[encoded data removed]",
      "text/plain": [
       "<Figure size 640x480 with 1 Axes>"
      ]
     },
     "metadata": {},
     "output_type": "display_data"
    }
   ],
   "source": [
    "from matplotlib import pyplot as plt\n",
    "import seaborn as sns\n",
    "\n",
    "\n",
    "# Create a new array to store the rounded predictions\n",
    "rounded_predictions_array = np.round(predictions_array * 2) / 2\n",
    "\n",
    "# Combine the test_ratings_array and rounded_predictions_array into a DataFrame\n",
    "data = pd.DataFrame({'Test Ratings': test_ratings_array, 'Predictions': rounded_predictions_array})\n",
    "\n",
    "# Create a figure and axis\n",
    "fig, ax = plt.subplots()\n",
    "\n",
    "# Create a boxplot using seaborn\n",
    "sns.boxplot(data=data, x='Test Ratings', y='Predictions', ax=ax)\n",
    "\n",
    "# Set the labels for x-axis and y-axis\n",
    "ax.set_xlabel('Test Ratings')\n",
    "ax.set_ylabel('Predictions')\n",
    "\n",
    "# Set the title of the plot\n",
    "ax.set_title('Boxplot of Test Ratings vs Predictions')\n",
    "\n",
    "# Show the plot\n",
    "plt.show()"
   ]
  },
  {
   "cell_type": "code",
   "execution_count": 249,
   "metadata": {},
   "outputs": [
    {
     "name": "stdout",
     "output_type": "stream",
     "text": [
      "rmse:  6.521095300059264\n",
      "r2:  -0.6056976680095603\n",
      "Fraction of user-movie pairs with non-zero predicted ratings  0.09898477157360407\n",
      "Fraction of user-movie pairs with non-zero predicted ratings  0.38527145765157567\n"
     ]
    }
   ],
   "source": [
    "import numpy as np\n",
    "from sklearn.metrics import mean_squared_error, r2_score\n",
    "#Root mean-squared error (RMSE)\n",
    "rmse = mean_squared_error(test_ratings_array, predictions_array)\n",
    "print('rmse: ', rmse)\n",
    "#Pearson's Correlation Coefficient (R2)\n",
    "r2 = r2_score(test_ratings_array, predictions_array) \n",
    "print('r2: ', r2)\n",
    "#Fraction of user-movie pairs with non-zero predicted ratings\n",
    "print('Fraction of user-movie pairs with non-zero predicted ratings ', np.count_nonzero(predictions_array)/len(predictions_array))\n",
    "#Fraction of user-movie ratings with a predicted values (recall)\n",
    "subtracted_array = np.subtract(predictions_array, test_ratings_array) #zeros mean perfect match\n",
    "subtracted_array_rounded = np.round(subtracted_array * 2) / 2 #round to nearest 0.5\n",
    "\n",
    "print('Fraction of user-movie pairs with non-zero predicted ratings ', np.count_nonzero(subtracted_array_rounded)/len(subtracted_array))\n",
    "#RMSE is appropriate if we want to exactly the predict the ratings of the users.  R2 is useful if we don't care about the ranges of the ratings, just that the predicted ratings rank items in a manner consistent with the user-provided ratings.  The MovieLens ratings are in increments of 0.5.  This makes it easy to visualize the relationships between the user-provided and predicted ratings using a boxplot (user-provided ratings on the X axis, predicted ratings on the Y axis).\n"
   ]
  },
  {
   "cell_type": "code",
   "execution_count": null,
   "metadata": {},
   "outputs": [],
   "source": []
  }
 ],
 "metadata": {
  "kernelspec": {
   "display_name": "AverageRatingsImplementation-7JwYyYnJ",
   "language": "python",
   "name": "python3"
  },
  "language_info": {
   "codemirror_mode": {
    "name": "ipython",
    "version": 3
   },
   "file_extension": ".py",
   "mimetype": "text/x-python",
   "name": "python",
   "nbconvert_exporter": "python",
   "pygments_lexer": "ipython3",
   "version": "3.11.5"
  }
 },
 "nbformat": 4,
 "nbformat_minor": 2
}
